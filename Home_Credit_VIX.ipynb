{
 "cells": [
  {
   "cell_type": "code",
   "execution_count": 1,
   "id": "ad3818ba-61e8-4be4-827c-89d8e18a9b8d",
   "metadata": {},
   "outputs": [
    {
     "name": "stderr",
     "output_type": "stream",
     "text": [
      "ERROR: unknown command \"matplotlib==3.4.3\"\n",
      "\n"
     ]
    },
    {
     "name": "stdout",
     "output_type": "stream",
     "text": [
      "Requirement already satisfied: xgboost in c:\\users\\lenovo\\anaconda3\\lib\\site-packages (1.6.2)\n",
      "Requirement already satisfied: numpy in c:\\users\\lenovo\\anaconda3\\lib\\site-packages (from xgboost) (1.20.1)\n",
      "Requirement already satisfied: scipy in c:\\users\\lenovo\\anaconda3\\lib\\site-packages (from xgboost) (1.9.0)\n",
      "Requirement already satisfied: imblearn in c:\\users\\lenovo\\anaconda3\\lib\\site-packages (0.0)\n",
      "Requirement already satisfied: imbalanced-learn in c:\\users\\lenovo\\anaconda3\\lib\\site-packages (from imblearn) (0.9.1)\n",
      "Requirement already satisfied: scikit-learn>=1.1.0 in c:\\users\\lenovo\\anaconda3\\lib\\site-packages (from imbalanced-learn->imblearn) (1.1.2)\n",
      "Requirement already satisfied: scipy>=1.3.2 in c:\\users\\lenovo\\anaconda3\\lib\\site-packages (from imbalanced-learn->imblearn) (1.9.0)\n",
      "Requirement already satisfied: numpy>=1.17.3 in c:\\users\\lenovo\\anaconda3\\lib\\site-packages (from imbalanced-learn->imblearn) (1.20.1)\n",
      "Requirement already satisfied: joblib>=1.0.0 in c:\\users\\lenovo\\anaconda3\\lib\\site-packages (from imbalanced-learn->imblearn) (1.0.1)\n",
      "Requirement already satisfied: threadpoolctl>=2.0.0 in c:\\users\\lenovo\\anaconda3\\lib\\site-packages (from imbalanced-learn->imblearn) (2.1.0)\n"
     ]
    }
   ],
   "source": [
    "import pandas as pd\n",
    "import numpy as np\n",
    "\n",
    "!pip matplotlib==3.4.3\n",
    "import matplotlib.pyplot as plt\n",
    "import seaborn as sns; sns.set();\n",
    "\n",
    "! pip install xgboost\n",
    "from dython.nominal import associations\n",
    "from sklearn.preprocessing import MinMaxScaler, OneHotEncoder\n",
    "from sklearn.linear_model import LogisticRegression\n",
    "from imblearn.over_sampling import SMOTE\n",
    "from sklearn.ensemble import RandomForestClassifier, AdaBoostClassifier\n",
    "from xgboost import XGBClassifier\n",
    "from sklearn.model_selection import RandomizedSearchCV, GridSearchCV\n",
    "from sklearn.metrics import confusion_matrix, classification_report\n",
    "from sklearn.metrics import precision_score, recall_score, f1_score\n",
    "from sklearn.metrics import plot_roc_curve\n",
    "from sklearn.metrics import roc_auc_score, roc_curve, RocCurveDisplay, precision_recall_curve, PrecisionRecallDisplay\n",
    "from sklearn.metrics import confusion_matrix, ConfusionMatrixDisplay, classification_report\n",
    "from sklearn.metrics import accuracy_score\n",
    "from sklearn import metrics\n",
    "from sklearn.feature_selection import VarianceThreshold\n",
    "from sklearn.ensemble import RandomForestClassifier\n",
    "from sklearn.model_selection import train_test_split, cross_validate\n",
    "\n",
    "! pip install imblearn\n",
    "from imblearn.pipeline import make_pipeline\n",
    "from sklearn.model_selection import train_test_split\n",
    "from sklearn.pipeline import Pipeline\n",
    "from sklearn.compose import make_column_selector as selector\n",
    "from sklearn.compose import ColumnTransformer\n",
    "\n",
    "import warnings\n",
    "warnings.filterwarnings(\"ignore\")"
   ]
  },
  {
   "cell_type": "code",
   "execution_count": 2,
   "id": "7ad84180-2912-4659-8d64-56cfd1f39b94",
   "metadata": {},
   "outputs": [],
   "source": [
    "#Train Data\n",
    "train = pd.read_csv(\"application_train.csv\")"
   ]
  },
  {
   "cell_type": "code",
   "execution_count": 3,
   "id": "e7000fce-b751-46e0-9a70-16a8066c07f8",
   "metadata": {},
   "outputs": [
    {
     "data": {
      "text/plain": [
       "(307511, 122)"
      ]
     },
     "execution_count": 3,
     "metadata": {},
     "output_type": "execute_result"
    }
   ],
   "source": [
    "#Looking the shape of data\n",
    "train.shape"
   ]
  },
  {
   "cell_type": "code",
   "execution_count": 4,
   "id": "b873ba91-f35d-4b6e-b3fc-82451b7ef5cd",
   "metadata": {},
   "outputs": [
    {
     "name": "stdout",
     "output_type": "stream",
     "text": [
      "<class 'pandas.core.frame.DataFrame'>\n",
      "RangeIndex: 307511 entries, 0 to 307510\n",
      "Columns: 122 entries, SK_ID_CURR to AMT_REQ_CREDIT_BUREAU_YEAR\n",
      "dtypes: float64(65), int64(41), object(16)\n",
      "memory usage: 286.2+ MB\n"
     ]
    }
   ],
   "source": [
    "train.info()"
   ]
  },
  {
   "cell_type": "markdown",
   "id": "20f6a9fd-f676-40af-969e-94258e0ba039",
   "metadata": {},
   "source": [
    "- Ada 65 Feature bertipe float\n",
    "- Ada 41 Feature bertipe integer\n",
    "- Ada 16 Feature bertipe object"
   ]
  },
  {
   "cell_type": "code",
   "execution_count": 5,
   "id": "87fd2c74-1f36-4de1-b28c-f56862cd4e9f",
   "metadata": {},
   "outputs": [
    {
     "data": {
      "text/html": [
       "<div>\n",
       "<style scoped>\n",
       "    .dataframe tbody tr th:only-of-type {\n",
       "        vertical-align: middle;\n",
       "    }\n",
       "\n",
       "    .dataframe tbody tr th {\n",
       "        vertical-align: top;\n",
       "    }\n",
       "\n",
       "    .dataframe thead th {\n",
       "        text-align: right;\n",
       "    }\n",
       "</style>\n",
       "<table border=\"1\" class=\"dataframe\">\n",
       "  <thead>\n",
       "    <tr style=\"text-align: right;\">\n",
       "      <th></th>\n",
       "      <th>SK_ID_CURR</th>\n",
       "      <th>TARGET</th>\n",
       "      <th>NAME_CONTRACT_TYPE</th>\n",
       "      <th>CODE_GENDER</th>\n",
       "      <th>FLAG_OWN_CAR</th>\n",
       "      <th>FLAG_OWN_REALTY</th>\n",
       "      <th>CNT_CHILDREN</th>\n",
       "      <th>AMT_INCOME_TOTAL</th>\n",
       "      <th>AMT_CREDIT</th>\n",
       "      <th>AMT_ANNUITY</th>\n",
       "      <th>...</th>\n",
       "      <th>FLAG_DOCUMENT_18</th>\n",
       "      <th>FLAG_DOCUMENT_19</th>\n",
       "      <th>FLAG_DOCUMENT_20</th>\n",
       "      <th>FLAG_DOCUMENT_21</th>\n",
       "      <th>AMT_REQ_CREDIT_BUREAU_HOUR</th>\n",
       "      <th>AMT_REQ_CREDIT_BUREAU_DAY</th>\n",
       "      <th>AMT_REQ_CREDIT_BUREAU_WEEK</th>\n",
       "      <th>AMT_REQ_CREDIT_BUREAU_MON</th>\n",
       "      <th>AMT_REQ_CREDIT_BUREAU_QRT</th>\n",
       "      <th>AMT_REQ_CREDIT_BUREAU_YEAR</th>\n",
       "    </tr>\n",
       "  </thead>\n",
       "  <tbody>\n",
       "    <tr>\n",
       "      <th>0</th>\n",
       "      <td>100002</td>\n",
       "      <td>1</td>\n",
       "      <td>Cash loans</td>\n",
       "      <td>M</td>\n",
       "      <td>N</td>\n",
       "      <td>Y</td>\n",
       "      <td>0</td>\n",
       "      <td>202500.0</td>\n",
       "      <td>406597.5</td>\n",
       "      <td>24700.5</td>\n",
       "      <td>...</td>\n",
       "      <td>0</td>\n",
       "      <td>0</td>\n",
       "      <td>0</td>\n",
       "      <td>0</td>\n",
       "      <td>0.0</td>\n",
       "      <td>0.0</td>\n",
       "      <td>0.0</td>\n",
       "      <td>0.0</td>\n",
       "      <td>0.0</td>\n",
       "      <td>1.0</td>\n",
       "    </tr>\n",
       "    <tr>\n",
       "      <th>1</th>\n",
       "      <td>100003</td>\n",
       "      <td>0</td>\n",
       "      <td>Cash loans</td>\n",
       "      <td>F</td>\n",
       "      <td>N</td>\n",
       "      <td>N</td>\n",
       "      <td>0</td>\n",
       "      <td>270000.0</td>\n",
       "      <td>1293502.5</td>\n",
       "      <td>35698.5</td>\n",
       "      <td>...</td>\n",
       "      <td>0</td>\n",
       "      <td>0</td>\n",
       "      <td>0</td>\n",
       "      <td>0</td>\n",
       "      <td>0.0</td>\n",
       "      <td>0.0</td>\n",
       "      <td>0.0</td>\n",
       "      <td>0.0</td>\n",
       "      <td>0.0</td>\n",
       "      <td>0.0</td>\n",
       "    </tr>\n",
       "    <tr>\n",
       "      <th>2</th>\n",
       "      <td>100004</td>\n",
       "      <td>0</td>\n",
       "      <td>Revolving loans</td>\n",
       "      <td>M</td>\n",
       "      <td>Y</td>\n",
       "      <td>Y</td>\n",
       "      <td>0</td>\n",
       "      <td>67500.0</td>\n",
       "      <td>135000.0</td>\n",
       "      <td>6750.0</td>\n",
       "      <td>...</td>\n",
       "      <td>0</td>\n",
       "      <td>0</td>\n",
       "      <td>0</td>\n",
       "      <td>0</td>\n",
       "      <td>0.0</td>\n",
       "      <td>0.0</td>\n",
       "      <td>0.0</td>\n",
       "      <td>0.0</td>\n",
       "      <td>0.0</td>\n",
       "      <td>0.0</td>\n",
       "    </tr>\n",
       "    <tr>\n",
       "      <th>3</th>\n",
       "      <td>100006</td>\n",
       "      <td>0</td>\n",
       "      <td>Cash loans</td>\n",
       "      <td>F</td>\n",
       "      <td>N</td>\n",
       "      <td>Y</td>\n",
       "      <td>0</td>\n",
       "      <td>135000.0</td>\n",
       "      <td>312682.5</td>\n",
       "      <td>29686.5</td>\n",
       "      <td>...</td>\n",
       "      <td>0</td>\n",
       "      <td>0</td>\n",
       "      <td>0</td>\n",
       "      <td>0</td>\n",
       "      <td>NaN</td>\n",
       "      <td>NaN</td>\n",
       "      <td>NaN</td>\n",
       "      <td>NaN</td>\n",
       "      <td>NaN</td>\n",
       "      <td>NaN</td>\n",
       "    </tr>\n",
       "    <tr>\n",
       "      <th>4</th>\n",
       "      <td>100007</td>\n",
       "      <td>0</td>\n",
       "      <td>Cash loans</td>\n",
       "      <td>M</td>\n",
       "      <td>N</td>\n",
       "      <td>Y</td>\n",
       "      <td>0</td>\n",
       "      <td>121500.0</td>\n",
       "      <td>513000.0</td>\n",
       "      <td>21865.5</td>\n",
       "      <td>...</td>\n",
       "      <td>0</td>\n",
       "      <td>0</td>\n",
       "      <td>0</td>\n",
       "      <td>0</td>\n",
       "      <td>0.0</td>\n",
       "      <td>0.0</td>\n",
       "      <td>0.0</td>\n",
       "      <td>0.0</td>\n",
       "      <td>0.0</td>\n",
       "      <td>0.0</td>\n",
       "    </tr>\n",
       "  </tbody>\n",
       "</table>\n",
       "<p>5 rows × 122 columns</p>\n",
       "</div>"
      ],
      "text/plain": [
       "   SK_ID_CURR  TARGET NAME_CONTRACT_TYPE CODE_GENDER FLAG_OWN_CAR  \\\n",
       "0      100002       1         Cash loans           M            N   \n",
       "1      100003       0         Cash loans           F            N   \n",
       "2      100004       0    Revolving loans           M            Y   \n",
       "3      100006       0         Cash loans           F            N   \n",
       "4      100007       0         Cash loans           M            N   \n",
       "\n",
       "  FLAG_OWN_REALTY  CNT_CHILDREN  AMT_INCOME_TOTAL  AMT_CREDIT  AMT_ANNUITY  \\\n",
       "0               Y             0          202500.0    406597.5      24700.5   \n",
       "1               N             0          270000.0   1293502.5      35698.5   \n",
       "2               Y             0           67500.0    135000.0       6750.0   \n",
       "3               Y             0          135000.0    312682.5      29686.5   \n",
       "4               Y             0          121500.0    513000.0      21865.5   \n",
       "\n",
       "   ...  FLAG_DOCUMENT_18 FLAG_DOCUMENT_19 FLAG_DOCUMENT_20 FLAG_DOCUMENT_21  \\\n",
       "0  ...                 0                0                0                0   \n",
       "1  ...                 0                0                0                0   \n",
       "2  ...                 0                0                0                0   \n",
       "3  ...                 0                0                0                0   \n",
       "4  ...                 0                0                0                0   \n",
       "\n",
       "  AMT_REQ_CREDIT_BUREAU_HOUR AMT_REQ_CREDIT_BUREAU_DAY  \\\n",
       "0                        0.0                       0.0   \n",
       "1                        0.0                       0.0   \n",
       "2                        0.0                       0.0   \n",
       "3                        NaN                       NaN   \n",
       "4                        0.0                       0.0   \n",
       "\n",
       "   AMT_REQ_CREDIT_BUREAU_WEEK  AMT_REQ_CREDIT_BUREAU_MON  \\\n",
       "0                         0.0                        0.0   \n",
       "1                         0.0                        0.0   \n",
       "2                         0.0                        0.0   \n",
       "3                         NaN                        NaN   \n",
       "4                         0.0                        0.0   \n",
       "\n",
       "   AMT_REQ_CREDIT_BUREAU_QRT  AMT_REQ_CREDIT_BUREAU_YEAR  \n",
       "0                        0.0                         1.0  \n",
       "1                        0.0                         0.0  \n",
       "2                        0.0                         0.0  \n",
       "3                        NaN                         NaN  \n",
       "4                        0.0                         0.0  \n",
       "\n",
       "[5 rows x 122 columns]"
      ]
     },
     "execution_count": 5,
     "metadata": {},
     "output_type": "execute_result"
    }
   ],
   "source": [
    "train.head()"
   ]
  },
  {
   "cell_type": "markdown",
   "id": "1b3a1332-8f6c-4f6c-b2e1-24f3b782c27e",
   "metadata": {},
   "source": [
    "train.select_dtypes(include=['object']).describe().T"
   ]
  },
  {
   "cell_type": "code",
   "execution_count": 6,
   "id": "2507a049-d0e6-4bba-950f-9e2e0a8d94ef",
   "metadata": {},
   "outputs": [
    {
     "data": {
      "text/plain": [
       "Index(['SK_ID_CURR', 'TARGET', 'NAME_CONTRACT_TYPE', 'CODE_GENDER',\n",
       "       'FLAG_OWN_CAR', 'FLAG_OWN_REALTY', 'CNT_CHILDREN', 'AMT_INCOME_TOTAL',\n",
       "       'AMT_CREDIT', 'AMT_ANNUITY',\n",
       "       ...\n",
       "       'FLAG_DOCUMENT_18', 'FLAG_DOCUMENT_19', 'FLAG_DOCUMENT_20',\n",
       "       'FLAG_DOCUMENT_21', 'AMT_REQ_CREDIT_BUREAU_HOUR',\n",
       "       'AMT_REQ_CREDIT_BUREAU_DAY', 'AMT_REQ_CREDIT_BUREAU_WEEK',\n",
       "       'AMT_REQ_CREDIT_BUREAU_MON', 'AMT_REQ_CREDIT_BUREAU_QRT',\n",
       "       'AMT_REQ_CREDIT_BUREAU_YEAR'],\n",
       "      dtype='object', length=122)"
      ]
     },
     "execution_count": 6,
     "metadata": {},
     "output_type": "execute_result"
    }
   ],
   "source": [
    "train.columns"
   ]
  },
  {
   "cell_type": "code",
   "execution_count": 7,
   "id": "d5099adc-805e-4df6-9759-1d9132bddc01",
   "metadata": {},
   "outputs": [
    {
     "data": {
      "text/plain": [
       "['NAME_CONTRACT_TYPE',\n",
       " 'CODE_GENDER',\n",
       " 'FLAG_OWN_CAR',\n",
       " 'FLAG_OWN_REALTY',\n",
       " 'NAME_TYPE_SUITE',\n",
       " 'NAME_INCOME_TYPE',\n",
       " 'NAME_EDUCATION_TYPE',\n",
       " 'NAME_FAMILY_STATUS',\n",
       " 'NAME_HOUSING_TYPE',\n",
       " 'OCCUPATION_TYPE',\n",
       " 'WEEKDAY_APPR_PROCESS_START',\n",
       " 'ORGANIZATION_TYPE',\n",
       " 'FONDKAPREMONT_MODE',\n",
       " 'HOUSETYPE_MODE',\n",
       " 'WALLSMATERIAL_MODE',\n",
       " 'EMERGENCYSTATE_MODE']"
      ]
     },
     "execution_count": 7,
     "metadata": {},
     "output_type": "execute_result"
    }
   ],
   "source": [
    "train.select_dtypes(include=['object']).columns.tolist()"
   ]
  },
  {
   "cell_type": "code",
   "execution_count": 8,
   "id": "b4ec6f0c-9264-4064-bd4a-fb9e44dc75f5",
   "metadata": {},
   "outputs": [
    {
     "data": {
      "text/html": [
       "<div>\n",
       "<style scoped>\n",
       "    .dataframe tbody tr th:only-of-type {\n",
       "        vertical-align: middle;\n",
       "    }\n",
       "\n",
       "    .dataframe tbody tr th {\n",
       "        vertical-align: top;\n",
       "    }\n",
       "\n",
       "    .dataframe thead th {\n",
       "        text-align: right;\n",
       "    }\n",
       "</style>\n",
       "<table border=\"1\" class=\"dataframe\">\n",
       "  <thead>\n",
       "    <tr style=\"text-align: right;\">\n",
       "      <th></th>\n",
       "      <th>count</th>\n",
       "      <th>unique</th>\n",
       "      <th>top</th>\n",
       "      <th>freq</th>\n",
       "    </tr>\n",
       "  </thead>\n",
       "  <tbody>\n",
       "    <tr>\n",
       "      <th>NAME_CONTRACT_TYPE</th>\n",
       "      <td>307511</td>\n",
       "      <td>2</td>\n",
       "      <td>Cash loans</td>\n",
       "      <td>278232</td>\n",
       "    </tr>\n",
       "    <tr>\n",
       "      <th>CODE_GENDER</th>\n",
       "      <td>307511</td>\n",
       "      <td>3</td>\n",
       "      <td>F</td>\n",
       "      <td>202448</td>\n",
       "    </tr>\n",
       "    <tr>\n",
       "      <th>FLAG_OWN_CAR</th>\n",
       "      <td>307511</td>\n",
       "      <td>2</td>\n",
       "      <td>N</td>\n",
       "      <td>202924</td>\n",
       "    </tr>\n",
       "    <tr>\n",
       "      <th>FLAG_OWN_REALTY</th>\n",
       "      <td>307511</td>\n",
       "      <td>2</td>\n",
       "      <td>Y</td>\n",
       "      <td>213312</td>\n",
       "    </tr>\n",
       "    <tr>\n",
       "      <th>NAME_TYPE_SUITE</th>\n",
       "      <td>306219</td>\n",
       "      <td>7</td>\n",
       "      <td>Unaccompanied</td>\n",
       "      <td>248526</td>\n",
       "    </tr>\n",
       "    <tr>\n",
       "      <th>NAME_INCOME_TYPE</th>\n",
       "      <td>307511</td>\n",
       "      <td>8</td>\n",
       "      <td>Working</td>\n",
       "      <td>158774</td>\n",
       "    </tr>\n",
       "    <tr>\n",
       "      <th>NAME_EDUCATION_TYPE</th>\n",
       "      <td>307511</td>\n",
       "      <td>5</td>\n",
       "      <td>Secondary / secondary special</td>\n",
       "      <td>218391</td>\n",
       "    </tr>\n",
       "    <tr>\n",
       "      <th>NAME_FAMILY_STATUS</th>\n",
       "      <td>307511</td>\n",
       "      <td>6</td>\n",
       "      <td>Married</td>\n",
       "      <td>196432</td>\n",
       "    </tr>\n",
       "    <tr>\n",
       "      <th>NAME_HOUSING_TYPE</th>\n",
       "      <td>307511</td>\n",
       "      <td>6</td>\n",
       "      <td>House / apartment</td>\n",
       "      <td>272868</td>\n",
       "    </tr>\n",
       "    <tr>\n",
       "      <th>OCCUPATION_TYPE</th>\n",
       "      <td>211120</td>\n",
       "      <td>18</td>\n",
       "      <td>Laborers</td>\n",
       "      <td>55186</td>\n",
       "    </tr>\n",
       "    <tr>\n",
       "      <th>WEEKDAY_APPR_PROCESS_START</th>\n",
       "      <td>307511</td>\n",
       "      <td>7</td>\n",
       "      <td>TUESDAY</td>\n",
       "      <td>53901</td>\n",
       "    </tr>\n",
       "    <tr>\n",
       "      <th>ORGANIZATION_TYPE</th>\n",
       "      <td>307511</td>\n",
       "      <td>58</td>\n",
       "      <td>Business Entity Type 3</td>\n",
       "      <td>67992</td>\n",
       "    </tr>\n",
       "    <tr>\n",
       "      <th>FONDKAPREMONT_MODE</th>\n",
       "      <td>97216</td>\n",
       "      <td>4</td>\n",
       "      <td>reg oper account</td>\n",
       "      <td>73830</td>\n",
       "    </tr>\n",
       "    <tr>\n",
       "      <th>HOUSETYPE_MODE</th>\n",
       "      <td>153214</td>\n",
       "      <td>3</td>\n",
       "      <td>block of flats</td>\n",
       "      <td>150503</td>\n",
       "    </tr>\n",
       "    <tr>\n",
       "      <th>WALLSMATERIAL_MODE</th>\n",
       "      <td>151170</td>\n",
       "      <td>7</td>\n",
       "      <td>Panel</td>\n",
       "      <td>66040</td>\n",
       "    </tr>\n",
       "    <tr>\n",
       "      <th>EMERGENCYSTATE_MODE</th>\n",
       "      <td>161756</td>\n",
       "      <td>2</td>\n",
       "      <td>No</td>\n",
       "      <td>159428</td>\n",
       "    </tr>\n",
       "  </tbody>\n",
       "</table>\n",
       "</div>"
      ],
      "text/plain": [
       "                             count unique                            top  \\\n",
       "NAME_CONTRACT_TYPE          307511      2                     Cash loans   \n",
       "CODE_GENDER                 307511      3                              F   \n",
       "FLAG_OWN_CAR                307511      2                              N   \n",
       "FLAG_OWN_REALTY             307511      2                              Y   \n",
       "NAME_TYPE_SUITE             306219      7                  Unaccompanied   \n",
       "NAME_INCOME_TYPE            307511      8                        Working   \n",
       "NAME_EDUCATION_TYPE         307511      5  Secondary / secondary special   \n",
       "NAME_FAMILY_STATUS          307511      6                        Married   \n",
       "NAME_HOUSING_TYPE           307511      6              House / apartment   \n",
       "OCCUPATION_TYPE             211120     18                       Laborers   \n",
       "WEEKDAY_APPR_PROCESS_START  307511      7                        TUESDAY   \n",
       "ORGANIZATION_TYPE           307511     58         Business Entity Type 3   \n",
       "FONDKAPREMONT_MODE           97216      4               reg oper account   \n",
       "HOUSETYPE_MODE              153214      3                 block of flats   \n",
       "WALLSMATERIAL_MODE          151170      7                          Panel   \n",
       "EMERGENCYSTATE_MODE         161756      2                             No   \n",
       "\n",
       "                              freq  \n",
       "NAME_CONTRACT_TYPE          278232  \n",
       "CODE_GENDER                 202448  \n",
       "FLAG_OWN_CAR                202924  \n",
       "FLAG_OWN_REALTY             213312  \n",
       "NAME_TYPE_SUITE             248526  \n",
       "NAME_INCOME_TYPE            158774  \n",
       "NAME_EDUCATION_TYPE         218391  \n",
       "NAME_FAMILY_STATUS          196432  \n",
       "NAME_HOUSING_TYPE           272868  \n",
       "OCCUPATION_TYPE              55186  \n",
       "WEEKDAY_APPR_PROCESS_START   53901  \n",
       "ORGANIZATION_TYPE            67992  \n",
       "FONDKAPREMONT_MODE           73830  \n",
       "HOUSETYPE_MODE              150503  \n",
       "WALLSMATERIAL_MODE           66040  \n",
       "EMERGENCYSTATE_MODE         159428  "
      ]
     },
     "execution_count": 8,
     "metadata": {},
     "output_type": "execute_result"
    }
   ],
   "source": [
    "train.select_dtypes(include=['object']).describe().T"
   ]
  },
  {
   "cell_type": "code",
   "execution_count": 9,
   "id": "cec0104f-2ee7-4a62-b3c8-3e52a54d8804",
   "metadata": {},
   "outputs": [
    {
     "data": {
      "text/plain": [
       "['SK_ID_CURR',\n",
       " 'TARGET',\n",
       " 'CNT_CHILDREN',\n",
       " 'DAYS_BIRTH',\n",
       " 'DAYS_EMPLOYED',\n",
       " 'DAYS_ID_PUBLISH',\n",
       " 'FLAG_MOBIL',\n",
       " 'FLAG_EMP_PHONE',\n",
       " 'FLAG_WORK_PHONE',\n",
       " 'FLAG_CONT_MOBILE',\n",
       " 'FLAG_PHONE',\n",
       " 'FLAG_EMAIL',\n",
       " 'REGION_RATING_CLIENT',\n",
       " 'REGION_RATING_CLIENT_W_CITY',\n",
       " 'HOUR_APPR_PROCESS_START',\n",
       " 'REG_REGION_NOT_LIVE_REGION',\n",
       " 'REG_REGION_NOT_WORK_REGION',\n",
       " 'LIVE_REGION_NOT_WORK_REGION',\n",
       " 'REG_CITY_NOT_LIVE_CITY',\n",
       " 'REG_CITY_NOT_WORK_CITY',\n",
       " 'LIVE_CITY_NOT_WORK_CITY',\n",
       " 'FLAG_DOCUMENT_2',\n",
       " 'FLAG_DOCUMENT_3',\n",
       " 'FLAG_DOCUMENT_4',\n",
       " 'FLAG_DOCUMENT_5',\n",
       " 'FLAG_DOCUMENT_6',\n",
       " 'FLAG_DOCUMENT_7',\n",
       " 'FLAG_DOCUMENT_8',\n",
       " 'FLAG_DOCUMENT_9',\n",
       " 'FLAG_DOCUMENT_10',\n",
       " 'FLAG_DOCUMENT_11',\n",
       " 'FLAG_DOCUMENT_12',\n",
       " 'FLAG_DOCUMENT_13',\n",
       " 'FLAG_DOCUMENT_14',\n",
       " 'FLAG_DOCUMENT_15',\n",
       " 'FLAG_DOCUMENT_16',\n",
       " 'FLAG_DOCUMENT_17',\n",
       " 'FLAG_DOCUMENT_18',\n",
       " 'FLAG_DOCUMENT_19',\n",
       " 'FLAG_DOCUMENT_20',\n",
       " 'FLAG_DOCUMENT_21']"
      ]
     },
     "execution_count": 9,
     "metadata": {},
     "output_type": "execute_result"
    }
   ],
   "source": [
    "train.select_dtypes(include=['integer']).columns.tolist()"
   ]
  },
  {
   "cell_type": "code",
   "execution_count": 10,
   "id": "ad357f94-82af-453c-a41c-80325e1f472e",
   "metadata": {},
   "outputs": [
    {
     "data": {
      "text/plain": [
       "['AMT_INCOME_TOTAL',\n",
       " 'AMT_CREDIT',\n",
       " 'AMT_ANNUITY',\n",
       " 'AMT_GOODS_PRICE',\n",
       " 'REGION_POPULATION_RELATIVE',\n",
       " 'DAYS_REGISTRATION',\n",
       " 'OWN_CAR_AGE',\n",
       " 'CNT_FAM_MEMBERS',\n",
       " 'EXT_SOURCE_1',\n",
       " 'EXT_SOURCE_2',\n",
       " 'EXT_SOURCE_3',\n",
       " 'APARTMENTS_AVG',\n",
       " 'BASEMENTAREA_AVG',\n",
       " 'YEARS_BEGINEXPLUATATION_AVG',\n",
       " 'YEARS_BUILD_AVG',\n",
       " 'COMMONAREA_AVG',\n",
       " 'ELEVATORS_AVG',\n",
       " 'ENTRANCES_AVG',\n",
       " 'FLOORSMAX_AVG',\n",
       " 'FLOORSMIN_AVG',\n",
       " 'LANDAREA_AVG',\n",
       " 'LIVINGAPARTMENTS_AVG',\n",
       " 'LIVINGAREA_AVG',\n",
       " 'NONLIVINGAPARTMENTS_AVG',\n",
       " 'NONLIVINGAREA_AVG',\n",
       " 'APARTMENTS_MODE',\n",
       " 'BASEMENTAREA_MODE',\n",
       " 'YEARS_BEGINEXPLUATATION_MODE',\n",
       " 'YEARS_BUILD_MODE',\n",
       " 'COMMONAREA_MODE',\n",
       " 'ELEVATORS_MODE',\n",
       " 'ENTRANCES_MODE',\n",
       " 'FLOORSMAX_MODE',\n",
       " 'FLOORSMIN_MODE',\n",
       " 'LANDAREA_MODE',\n",
       " 'LIVINGAPARTMENTS_MODE',\n",
       " 'LIVINGAREA_MODE',\n",
       " 'NONLIVINGAPARTMENTS_MODE',\n",
       " 'NONLIVINGAREA_MODE',\n",
       " 'APARTMENTS_MEDI',\n",
       " 'BASEMENTAREA_MEDI',\n",
       " 'YEARS_BEGINEXPLUATATION_MEDI',\n",
       " 'YEARS_BUILD_MEDI',\n",
       " 'COMMONAREA_MEDI',\n",
       " 'ELEVATORS_MEDI',\n",
       " 'ENTRANCES_MEDI',\n",
       " 'FLOORSMAX_MEDI',\n",
       " 'FLOORSMIN_MEDI',\n",
       " 'LANDAREA_MEDI',\n",
       " 'LIVINGAPARTMENTS_MEDI',\n",
       " 'LIVINGAREA_MEDI',\n",
       " 'NONLIVINGAPARTMENTS_MEDI',\n",
       " 'NONLIVINGAREA_MEDI',\n",
       " 'TOTALAREA_MODE',\n",
       " 'OBS_30_CNT_SOCIAL_CIRCLE',\n",
       " 'DEF_30_CNT_SOCIAL_CIRCLE',\n",
       " 'OBS_60_CNT_SOCIAL_CIRCLE',\n",
       " 'DEF_60_CNT_SOCIAL_CIRCLE',\n",
       " 'DAYS_LAST_PHONE_CHANGE',\n",
       " 'AMT_REQ_CREDIT_BUREAU_HOUR',\n",
       " 'AMT_REQ_CREDIT_BUREAU_DAY',\n",
       " 'AMT_REQ_CREDIT_BUREAU_WEEK',\n",
       " 'AMT_REQ_CREDIT_BUREAU_MON',\n",
       " 'AMT_REQ_CREDIT_BUREAU_QRT',\n",
       " 'AMT_REQ_CREDIT_BUREAU_YEAR']"
      ]
     },
     "execution_count": 10,
     "metadata": {},
     "output_type": "execute_result"
    }
   ],
   "source": [
    "train.select_dtypes(include=['float']).columns.tolist()"
   ]
  },
  {
   "cell_type": "code",
   "execution_count": 11,
   "id": "71dda264-c37e-45b8-970d-d70dac6da149",
   "metadata": {},
   "outputs": [
    {
     "data": {
      "text/html": [
       "<div>\n",
       "<style scoped>\n",
       "    .dataframe tbody tr th:only-of-type {\n",
       "        vertical-align: middle;\n",
       "    }\n",
       "\n",
       "    .dataframe tbody tr th {\n",
       "        vertical-align: top;\n",
       "    }\n",
       "\n",
       "    .dataframe thead th {\n",
       "        text-align: right;\n",
       "    }\n",
       "</style>\n",
       "<table border=\"1\" class=\"dataframe\">\n",
       "  <thead>\n",
       "    <tr style=\"text-align: right;\">\n",
       "      <th></th>\n",
       "      <th>SK_ID_CURR</th>\n",
       "      <th>TARGET</th>\n",
       "      <th>CNT_CHILDREN</th>\n",
       "      <th>AMT_INCOME_TOTAL</th>\n",
       "      <th>AMT_CREDIT</th>\n",
       "      <th>AMT_ANNUITY</th>\n",
       "      <th>AMT_GOODS_PRICE</th>\n",
       "      <th>REGION_POPULATION_RELATIVE</th>\n",
       "      <th>DAYS_BIRTH</th>\n",
       "      <th>DAYS_EMPLOYED</th>\n",
       "      <th>...</th>\n",
       "      <th>FLAG_DOCUMENT_18</th>\n",
       "      <th>FLAG_DOCUMENT_19</th>\n",
       "      <th>FLAG_DOCUMENT_20</th>\n",
       "      <th>FLAG_DOCUMENT_21</th>\n",
       "      <th>AMT_REQ_CREDIT_BUREAU_HOUR</th>\n",
       "      <th>AMT_REQ_CREDIT_BUREAU_DAY</th>\n",
       "      <th>AMT_REQ_CREDIT_BUREAU_WEEK</th>\n",
       "      <th>AMT_REQ_CREDIT_BUREAU_MON</th>\n",
       "      <th>AMT_REQ_CREDIT_BUREAU_QRT</th>\n",
       "      <th>AMT_REQ_CREDIT_BUREAU_YEAR</th>\n",
       "    </tr>\n",
       "  </thead>\n",
       "  <tbody>\n",
       "    <tr>\n",
       "      <th>count</th>\n",
       "      <td>307511.000000</td>\n",
       "      <td>307511.000000</td>\n",
       "      <td>307511.000000</td>\n",
       "      <td>3.075110e+05</td>\n",
       "      <td>3.075110e+05</td>\n",
       "      <td>307499.000000</td>\n",
       "      <td>3.072330e+05</td>\n",
       "      <td>307511.000000</td>\n",
       "      <td>307511.000000</td>\n",
       "      <td>307511.000000</td>\n",
       "      <td>...</td>\n",
       "      <td>307511.000000</td>\n",
       "      <td>307511.000000</td>\n",
       "      <td>307511.000000</td>\n",
       "      <td>307511.000000</td>\n",
       "      <td>265992.000000</td>\n",
       "      <td>265992.000000</td>\n",
       "      <td>265992.000000</td>\n",
       "      <td>265992.000000</td>\n",
       "      <td>265992.000000</td>\n",
       "      <td>265992.000000</td>\n",
       "    </tr>\n",
       "    <tr>\n",
       "      <th>mean</th>\n",
       "      <td>278180.518577</td>\n",
       "      <td>0.080729</td>\n",
       "      <td>0.417052</td>\n",
       "      <td>1.687979e+05</td>\n",
       "      <td>5.990260e+05</td>\n",
       "      <td>27108.573909</td>\n",
       "      <td>5.383962e+05</td>\n",
       "      <td>0.020868</td>\n",
       "      <td>-16036.995067</td>\n",
       "      <td>63815.045904</td>\n",
       "      <td>...</td>\n",
       "      <td>0.008130</td>\n",
       "      <td>0.000595</td>\n",
       "      <td>0.000507</td>\n",
       "      <td>0.000335</td>\n",
       "      <td>0.006402</td>\n",
       "      <td>0.007000</td>\n",
       "      <td>0.034362</td>\n",
       "      <td>0.267395</td>\n",
       "      <td>0.265474</td>\n",
       "      <td>1.899974</td>\n",
       "    </tr>\n",
       "    <tr>\n",
       "      <th>std</th>\n",
       "      <td>102790.175348</td>\n",
       "      <td>0.272419</td>\n",
       "      <td>0.722121</td>\n",
       "      <td>2.371231e+05</td>\n",
       "      <td>4.024908e+05</td>\n",
       "      <td>14493.737315</td>\n",
       "      <td>3.694465e+05</td>\n",
       "      <td>0.013831</td>\n",
       "      <td>4363.988632</td>\n",
       "      <td>141275.766519</td>\n",
       "      <td>...</td>\n",
       "      <td>0.089798</td>\n",
       "      <td>0.024387</td>\n",
       "      <td>0.022518</td>\n",
       "      <td>0.018299</td>\n",
       "      <td>0.083849</td>\n",
       "      <td>0.110757</td>\n",
       "      <td>0.204685</td>\n",
       "      <td>0.916002</td>\n",
       "      <td>0.794056</td>\n",
       "      <td>1.869295</td>\n",
       "    </tr>\n",
       "    <tr>\n",
       "      <th>min</th>\n",
       "      <td>100002.000000</td>\n",
       "      <td>0.000000</td>\n",
       "      <td>0.000000</td>\n",
       "      <td>2.565000e+04</td>\n",
       "      <td>4.500000e+04</td>\n",
       "      <td>1615.500000</td>\n",
       "      <td>4.050000e+04</td>\n",
       "      <td>0.000290</td>\n",
       "      <td>-25229.000000</td>\n",
       "      <td>-17912.000000</td>\n",
       "      <td>...</td>\n",
       "      <td>0.000000</td>\n",
       "      <td>0.000000</td>\n",
       "      <td>0.000000</td>\n",
       "      <td>0.000000</td>\n",
       "      <td>0.000000</td>\n",
       "      <td>0.000000</td>\n",
       "      <td>0.000000</td>\n",
       "      <td>0.000000</td>\n",
       "      <td>0.000000</td>\n",
       "      <td>0.000000</td>\n",
       "    </tr>\n",
       "    <tr>\n",
       "      <th>25%</th>\n",
       "      <td>189145.500000</td>\n",
       "      <td>0.000000</td>\n",
       "      <td>0.000000</td>\n",
       "      <td>1.125000e+05</td>\n",
       "      <td>2.700000e+05</td>\n",
       "      <td>16524.000000</td>\n",
       "      <td>2.385000e+05</td>\n",
       "      <td>0.010006</td>\n",
       "      <td>-19682.000000</td>\n",
       "      <td>-2760.000000</td>\n",
       "      <td>...</td>\n",
       "      <td>0.000000</td>\n",
       "      <td>0.000000</td>\n",
       "      <td>0.000000</td>\n",
       "      <td>0.000000</td>\n",
       "      <td>0.000000</td>\n",
       "      <td>0.000000</td>\n",
       "      <td>0.000000</td>\n",
       "      <td>0.000000</td>\n",
       "      <td>0.000000</td>\n",
       "      <td>0.000000</td>\n",
       "    </tr>\n",
       "    <tr>\n",
       "      <th>50%</th>\n",
       "      <td>278202.000000</td>\n",
       "      <td>0.000000</td>\n",
       "      <td>0.000000</td>\n",
       "      <td>1.471500e+05</td>\n",
       "      <td>5.135310e+05</td>\n",
       "      <td>24903.000000</td>\n",
       "      <td>4.500000e+05</td>\n",
       "      <td>0.018850</td>\n",
       "      <td>-15750.000000</td>\n",
       "      <td>-1213.000000</td>\n",
       "      <td>...</td>\n",
       "      <td>0.000000</td>\n",
       "      <td>0.000000</td>\n",
       "      <td>0.000000</td>\n",
       "      <td>0.000000</td>\n",
       "      <td>0.000000</td>\n",
       "      <td>0.000000</td>\n",
       "      <td>0.000000</td>\n",
       "      <td>0.000000</td>\n",
       "      <td>0.000000</td>\n",
       "      <td>1.000000</td>\n",
       "    </tr>\n",
       "    <tr>\n",
       "      <th>75%</th>\n",
       "      <td>367142.500000</td>\n",
       "      <td>0.000000</td>\n",
       "      <td>1.000000</td>\n",
       "      <td>2.025000e+05</td>\n",
       "      <td>8.086500e+05</td>\n",
       "      <td>34596.000000</td>\n",
       "      <td>6.795000e+05</td>\n",
       "      <td>0.028663</td>\n",
       "      <td>-12413.000000</td>\n",
       "      <td>-289.000000</td>\n",
       "      <td>...</td>\n",
       "      <td>0.000000</td>\n",
       "      <td>0.000000</td>\n",
       "      <td>0.000000</td>\n",
       "      <td>0.000000</td>\n",
       "      <td>0.000000</td>\n",
       "      <td>0.000000</td>\n",
       "      <td>0.000000</td>\n",
       "      <td>0.000000</td>\n",
       "      <td>0.000000</td>\n",
       "      <td>3.000000</td>\n",
       "    </tr>\n",
       "    <tr>\n",
       "      <th>max</th>\n",
       "      <td>456255.000000</td>\n",
       "      <td>1.000000</td>\n",
       "      <td>19.000000</td>\n",
       "      <td>1.170000e+08</td>\n",
       "      <td>4.050000e+06</td>\n",
       "      <td>258025.500000</td>\n",
       "      <td>4.050000e+06</td>\n",
       "      <td>0.072508</td>\n",
       "      <td>-7489.000000</td>\n",
       "      <td>365243.000000</td>\n",
       "      <td>...</td>\n",
       "      <td>1.000000</td>\n",
       "      <td>1.000000</td>\n",
       "      <td>1.000000</td>\n",
       "      <td>1.000000</td>\n",
       "      <td>4.000000</td>\n",
       "      <td>9.000000</td>\n",
       "      <td>8.000000</td>\n",
       "      <td>27.000000</td>\n",
       "      <td>261.000000</td>\n",
       "      <td>25.000000</td>\n",
       "    </tr>\n",
       "  </tbody>\n",
       "</table>\n",
       "<p>8 rows × 106 columns</p>\n",
       "</div>"
      ],
      "text/plain": [
       "          SK_ID_CURR         TARGET   CNT_CHILDREN  AMT_INCOME_TOTAL  \\\n",
       "count  307511.000000  307511.000000  307511.000000      3.075110e+05   \n",
       "mean   278180.518577       0.080729       0.417052      1.687979e+05   \n",
       "std    102790.175348       0.272419       0.722121      2.371231e+05   \n",
       "min    100002.000000       0.000000       0.000000      2.565000e+04   \n",
       "25%    189145.500000       0.000000       0.000000      1.125000e+05   \n",
       "50%    278202.000000       0.000000       0.000000      1.471500e+05   \n",
       "75%    367142.500000       0.000000       1.000000      2.025000e+05   \n",
       "max    456255.000000       1.000000      19.000000      1.170000e+08   \n",
       "\n",
       "         AMT_CREDIT    AMT_ANNUITY  AMT_GOODS_PRICE  \\\n",
       "count  3.075110e+05  307499.000000     3.072330e+05   \n",
       "mean   5.990260e+05   27108.573909     5.383962e+05   \n",
       "std    4.024908e+05   14493.737315     3.694465e+05   \n",
       "min    4.500000e+04    1615.500000     4.050000e+04   \n",
       "25%    2.700000e+05   16524.000000     2.385000e+05   \n",
       "50%    5.135310e+05   24903.000000     4.500000e+05   \n",
       "75%    8.086500e+05   34596.000000     6.795000e+05   \n",
       "max    4.050000e+06  258025.500000     4.050000e+06   \n",
       "\n",
       "       REGION_POPULATION_RELATIVE     DAYS_BIRTH  DAYS_EMPLOYED  ...  \\\n",
       "count               307511.000000  307511.000000  307511.000000  ...   \n",
       "mean                     0.020868  -16036.995067   63815.045904  ...   \n",
       "std                      0.013831    4363.988632  141275.766519  ...   \n",
       "min                      0.000290  -25229.000000  -17912.000000  ...   \n",
       "25%                      0.010006  -19682.000000   -2760.000000  ...   \n",
       "50%                      0.018850  -15750.000000   -1213.000000  ...   \n",
       "75%                      0.028663  -12413.000000    -289.000000  ...   \n",
       "max                      0.072508   -7489.000000  365243.000000  ...   \n",
       "\n",
       "       FLAG_DOCUMENT_18  FLAG_DOCUMENT_19  FLAG_DOCUMENT_20  FLAG_DOCUMENT_21  \\\n",
       "count     307511.000000     307511.000000     307511.000000     307511.000000   \n",
       "mean           0.008130          0.000595          0.000507          0.000335   \n",
       "std            0.089798          0.024387          0.022518          0.018299   \n",
       "min            0.000000          0.000000          0.000000          0.000000   \n",
       "25%            0.000000          0.000000          0.000000          0.000000   \n",
       "50%            0.000000          0.000000          0.000000          0.000000   \n",
       "75%            0.000000          0.000000          0.000000          0.000000   \n",
       "max            1.000000          1.000000          1.000000          1.000000   \n",
       "\n",
       "       AMT_REQ_CREDIT_BUREAU_HOUR  AMT_REQ_CREDIT_BUREAU_DAY  \\\n",
       "count               265992.000000              265992.000000   \n",
       "mean                     0.006402                   0.007000   \n",
       "std                      0.083849                   0.110757   \n",
       "min                      0.000000                   0.000000   \n",
       "25%                      0.000000                   0.000000   \n",
       "50%                      0.000000                   0.000000   \n",
       "75%                      0.000000                   0.000000   \n",
       "max                      4.000000                   9.000000   \n",
       "\n",
       "       AMT_REQ_CREDIT_BUREAU_WEEK  AMT_REQ_CREDIT_BUREAU_MON  \\\n",
       "count               265992.000000              265992.000000   \n",
       "mean                     0.034362                   0.267395   \n",
       "std                      0.204685                   0.916002   \n",
       "min                      0.000000                   0.000000   \n",
       "25%                      0.000000                   0.000000   \n",
       "50%                      0.000000                   0.000000   \n",
       "75%                      0.000000                   0.000000   \n",
       "max                      8.000000                  27.000000   \n",
       "\n",
       "       AMT_REQ_CREDIT_BUREAU_QRT  AMT_REQ_CREDIT_BUREAU_YEAR  \n",
       "count              265992.000000               265992.000000  \n",
       "mean                    0.265474                    1.899974  \n",
       "std                     0.794056                    1.869295  \n",
       "min                     0.000000                    0.000000  \n",
       "25%                     0.000000                    0.000000  \n",
       "50%                     0.000000                    1.000000  \n",
       "75%                     0.000000                    3.000000  \n",
       "max                   261.000000                   25.000000  \n",
       "\n",
       "[8 rows x 106 columns]"
      ]
     },
     "execution_count": 11,
     "metadata": {},
     "output_type": "execute_result"
    }
   ],
   "source": [
    "train.describe()"
   ]
  },
  {
   "cell_type": "code",
   "execution_count": 12,
   "id": "784aa100-abdf-4700-badb-9e94caa79e01",
   "metadata": {},
   "outputs": [
    {
     "data": {
      "text/plain": [
       "0"
      ]
     },
     "execution_count": 12,
     "metadata": {},
     "output_type": "execute_result"
    }
   ],
   "source": [
    "#Mengecek data duplikat\n",
    "train.duplicated().sum()"
   ]
  },
  {
   "cell_type": "markdown",
   "id": "f6deafbd-9b4b-49b9-8979-eebf1d0e35f8",
   "metadata": {},
   "source": [
    "## EDA"
   ]
  },
  {
   "cell_type": "code",
   "execution_count": 13,
   "id": "2c42fe6d-7404-47e4-b9e9-7fd3c4fdcba1",
   "metadata": {},
   "outputs": [
    {
     "data": {
      "image/png": "[encoded data removed]",
      "text/plain": [
       "<Figure size 864x576 with 1 Axes>"
      ]
     },
     "metadata": {
      "needs_background": "light"
     },
     "output_type": "display_data"
    },
    {
     "name": "stdout",
     "output_type": "stream",
     "text": [
      "Cash loans         90.48%\n",
      "Revolving loans     9.52%\n",
      "Name: NAME_CONTRACT_TYPE, dtype: object\n"
     ]
    }
   ],
   "source": [
    "# jenis pinjaman yang dipinjam oleh Peminjam\n",
    "\n",
    "plt.figure(figsize=(12,8))\n",
    "plt.title(\"Proposi Jenis Pinjaman\",fontsize=20,weight=\"bold\")\n",
    "sns.countplot(train.NAME_CONTRACT_TYPE.values,data=train,palette='mako')\n",
    "plt.show()\n",
    "\n",
    "value_counts = train['NAME_CONTRACT_TYPE'].value_counts()\n",
    "percentage = value_counts / value_counts.sum()\n",
    "percentage = percentage.apply(\"{:.2%}\".format)\n",
    "print(percentage)"
   ]
  },
  {
   "cell_type": "markdown",
   "id": "5487fef6-17c0-4ca8-83bc-79cacc6dc53c",
   "metadata": {},
   "source": [
    "Cash loans =  kredit yang berupa penyediaan dana tunai yang dipindahbukukan ke rekening nasabah untuk digunakan sesuai dengan tujuan kreditnya.\n",
    "Revolving Loans =  kredit untuk pembiayaan modal kerja yang bersifat permanen, yang jumlahnya tercermin dalam cash flow perusahaan.\n",
    "\n",
    "Kebanyakan peminjam meminjam uang dengan tipe pinjaman Cash loans."
   ]
  },
  {
   "cell_type": "code",
   "execution_count": 14,
   "id": "916b0aed-deb8-4858-9556-08b981e994c1",
   "metadata": {},
   "outputs": [
    {
     "data": {
      "text/plain": [
       "array(['M', 'F', 'XNA'], dtype=object)"
      ]
     },
     "execution_count": 14,
     "metadata": {},
     "output_type": "execute_result"
    }
   ],
   "source": [
    "train['CODE_GENDER'].unique()"
   ]
  },
  {
   "cell_type": "markdown",
   "id": "32aca7ab-0479-49d3-8acf-0222b067293f",
   "metadata": {},
   "source": [
    "terlihat kode gender yang ada cukup awam, karena terdapat 3 kategorik"
   ]
  },
  {
   "cell_type": "code",
   "execution_count": 15,
   "id": "24d09ecc-8ef7-4351-912a-182f4d2dd1f8",
   "metadata": {},
   "outputs": [
    {
     "data": {
      "image/png": "[encoded data removed]",
      "text/plain": [
       "<Figure size 864x576 with 1 Axes>"
      ]
     },
     "metadata": {
      "needs_background": "light"
     },
     "output_type": "display_data"
    },
    {
     "name": "stdout",
     "output_type": "stream",
     "text": [
      "F      65.83%\n",
      "M      34.16%\n",
      "XNA     0.00%\n",
      "Name: CODE_GENDER, dtype: object\n"
     ]
    }
   ],
   "source": [
    "plt.figure(figsize=(12,8))\n",
    "plt.title(\"Proposi Gender Peminjam\",fontsize=20,weight=\"bold\")\n",
    "sns.countplot(x= \"CODE_GENDER\", data = train, palette = \"mako\")\n",
    "plt.ylabel(\"Gender\")\n",
    "plt.show()\n",
    "\n",
    "value_counts = train['CODE_GENDER'].value_counts()\n",
    "percentage = value_counts / value_counts.sum()\n",
    "percentage = percentage.apply(\"{:.2%}\".format)\n",
    "print(percentage)"
   ]
  },
  {
   "cell_type": "markdown",
   "id": "4948aeb5-0d7d-4e94-9dc8-05598330767e",
   "metadata": {},
   "source": [
    "Peminjam Perempuan lebih banyak dari pada laki-laki"
   ]
  },
  {
   "cell_type": "code",
   "execution_count": 16,
   "id": "622c5df9-6ca1-4bfa-9a29-cb314f8e61ed",
   "metadata": {},
   "outputs": [
    {
     "name": "stdout",
     "output_type": "stream",
     "text": [
      "0    91.93%\n",
      "1     8.07%\n",
      "Name: TARGET, dtype: object\n"
     ]
    },
    {
     "data": {
      "image/png": "[encoded data removed]",
      "text/plain": [
       "<Figure size 864x576 with 1 Axes>"
      ]
     },
     "metadata": {},
     "output_type": "display_data"
    }
   ],
   "source": [
    "plt.figure(figsize=(12, 8))\n",
    "plt.title(\"Proposi Status Peminjaman\",fontsize=20,weight=\"bold\")\n",
    "train[\"TARGET\"].value_counts().plot.pie(explode=[0.1,0.1],labels=[\"Good Loan\",\"Bad Loan\"], autopct='%1.1f%%',colors=[\"g\",\"r\"]);\n",
    "\n",
    "value_counts = train[\"TARGET\"].value_counts()\n",
    "percentage = value_counts / value_counts.sum()\n",
    "percentage = percentage.apply(\"{:.2%}\".format)\n",
    "print(percentage)"
   ]
  },
  {
   "cell_type": "markdown",
   "id": "bb5658eb-2bb1-4803-8777-fdf651430ee9",
   "metadata": {},
   "source": [
    "\"1\" menunjukkan klien dengan kesulitan pembayaran: peminjam memiliki keterlambatan pembayaran (pinjaman belum terbayarkan), sedangkan  \"0\" pinjaman lunas.\n",
    "\n",
    "\n",
    "dapat dilihat dengan jelas bahwasannya kebanyakan peminjam telah mengembalikan uang pinjamannya, namun  feature targetnya mengalami imbalanced data."
   ]
  },
  {
   "cell_type": "code",
   "execution_count": 17,
   "id": "62d3159e-5292-4cbb-b3f4-11045f1eeeb9",
   "metadata": {},
   "outputs": [
    {
     "data": {
      "image/png": "[encoded data removed]",
      "text/plain": [
       "<Figure size 864x576 with 1 Axes>"
      ]
     },
     "metadata": {
      "needs_background": "light"
     },
     "output_type": "display_data"
    }
   ],
   "source": [
    "plt.figure(figsize=(12,8))\n",
    "plt.title(\"Proposi Status Peminjam\",fontsize=20,weight=\"bold\")\n",
    "sns.countplot(data = train, x= \"TARGET\", hue = 'CODE_GENDER', palette = \"mako\")\n",
    "plt.ylabel(\"\")\n",
    "plt.show()\n"
   ]
  },
  {
   "cell_type": "markdown",
   "id": "08cf6ef6-beb6-447c-bba0-f11a40f4eb70",
   "metadata": {},
   "source": [
    "Kreditur berjeneis kelamin perempuan cenderung kesulitan untuk membayarkan kembali pinjaman mereka, hal ini terjadi karena kebanyakan peminjam berjenis kelamin laki-laki"
   ]
  },
  {
   "cell_type": "code",
   "execution_count": 18,
   "id": "34ce139a-0c5f-4e86-8b03-47be3dd8e8db",
   "metadata": {},
   "outputs": [
    {
     "data": {
      "image/png": "[encoded data removed]",
      "text/plain": [
       "<Figure size 1008x576 with 1 Axes>"
      ]
     },
     "metadata": {
      "needs_background": "light"
     },
     "output_type": "display_data"
    },
    {
     "name": "stdout",
     "output_type": "stream",
     "text": [
      "\n",
      "\n",
      "Married                 63.88%\n",
      "Single / not married    14.78%\n",
      "Civil marriage           9.68%\n",
      "Separated                6.43%\n",
      "Widow                    5.23%\n",
      "Unknown                  0.00%\n",
      "Name: NAME_FAMILY_STATUS, dtype: object\n"
     ]
    }
   ],
   "source": [
    "# Status pernikahan peminjam?\n",
    "\n",
    "plt.figure(figsize=(14,8))\n",
    "plt.title(\"Status Pernikahan Peminjam\",fontsize=20,weight=\"bold\")\n",
    "sns.countplot(train.NAME_FAMILY_STATUS.values,data=train, palette= 'mako')\n",
    "plt.xlabel(\"Status Pernikahan\")\n",
    "plt.show()\n",
    "\n",
    "print('\\n')\n",
    "value_counts = train['NAME_FAMILY_STATUS'].value_counts()\n",
    "percentage = value_counts / value_counts.sum()\n",
    "percentage = percentage.apply(\"{:.2%}\".format)\n",
    "print(percentage)"
   ]
  },
  {
   "cell_type": "markdown",
   "id": "c13c49fc-0462-425f-8ec4-f99d85088290",
   "metadata": {},
   "source": [
    "Mostly peminjam sudah berstatus sebagai seorang yang sudah menikah, dapat diasusmsikan jika peminjam yang telat untuk membbayarkan pinjaman mereka dikarenakan \n",
    "harus mengeluarkan uangnya untuk kebutuhan rumah tangga mereka."
   ]
  },
  {
   "cell_type": "code",
   "execution_count": 102,
   "id": "c13f73c2-265b-4e78-be5b-b0aacaa2902d",
   "metadata": {},
   "outputs": [
    {
     "data": {
      "text/plain": [
       "<matplotlib.legend.Legend at 0x203a9ea3be0>"
      ]
     },
     "execution_count": 102,
     "metadata": {},
     "output_type": "execute_result"
    },
    {
     "data": {
      "image/png": "[encoded data removed]",
      "text/plain": [
       "<Figure size 1008x576 with 1 Axes>"
      ]
     },
     "metadata": {
      "needs_background": "light"
     },
     "output_type": "display_data"
    }
   ],
   "source": [
    "plt.figure(figsize=(14,8))\n",
    "plt.title(\"Distribusi Jumlah Anak yang dimiliki dengan Total pinjaman yang dibayarkan\",fontsize=20,weight=\"bold\")\n",
    "sns.countplot(x='TARGET',hue='CNT_CHILDREN',data=train,palette=\"turbo\")\n",
    "plt.legend(loc=1)"
   ]
  },
  {
   "cell_type": "markdown",
   "id": "70c76081-8cb0-433f-bf70-20e61a8ad573",
   "metadata": {},
   "source": [
    "Kebanyakan peminjam yang tidak memiliki anak tidak mengalami kesulitan untuk membayar kembali pinjaman mereka, namun memiliki anak sangat terlihat memperhambat peminjam untuk membayarkan pinjamannya."
   ]
  },
  {
   "cell_type": "code",
   "execution_count": 20,
   "id": "cfc9184b-2b1a-4b35-a810-2e3d14e7567f",
   "metadata": {},
   "outputs": [
    {
     "data": {
      "text/plain": [
       "<AxesSubplot:xlabel='CODE_GENDER', ylabel='CNT_CHILDREN'>"
      ]
     },
     "execution_count": 20,
     "metadata": {},
     "output_type": "execute_result"
    },
    {
     "data": {
      "image/png": "[encoded data removed]",
      "text/plain": [
       "<Figure size 864x576 with 1 Axes>"
      ]
     },
     "metadata": {
      "needs_background": "light"
     },
     "output_type": "display_data"
    }
   ],
   "source": [
    "plt.figure(figsize=(12,8))\n",
    "sns.violinplot(x='CODE_GENDER',y='CNT_CHILDREN',hue='TARGET',data=train,palette=\"turbo\")"
   ]
  },
  {
   "cell_type": "code",
   "execution_count": 21,
   "id": "db29a920-b3f5-4286-8349-7571b0c2bddc",
   "metadata": {},
   "outputs": [
    {
     "name": "stdout",
     "output_type": "stream",
     "text": [
      "0     215371\n",
      "1      61119\n",
      "2      26749\n",
      "3       3717\n",
      "4        429\n",
      "5         84\n",
      "6         21\n",
      "7          7\n",
      "14         3\n",
      "8          2\n",
      "9          2\n",
      "12         2\n",
      "10         2\n",
      "19         2\n",
      "11         1\n",
      "Name: CNT_CHILDREN, dtype: int64\n"
     ]
    }
   ],
   "source": [
    "chilldern = train['CNT_CHILDREN'].value_counts()\n",
    "print(chilldern)"
   ]
  },
  {
   "cell_type": "markdown",
   "id": "2948a9bf-dad3-49f2-8fda-13a1cd57c206",
   "metadata": {},
   "source": [
    "kebanyakan peminjam tidak memiliki anak"
   ]
  },
  {
   "cell_type": "code",
   "execution_count": 22,
   "id": "f7223eca-96ab-4e4a-9542-5ebeb710edd2",
   "metadata": {},
   "outputs": [
    {
     "data": {
      "image/png": "[encoded data removed]",
      "text/plain": [
       "<Figure size 1008x576 with 1 Axes>"
      ]
     },
     "metadata": {
      "needs_background": "light"
     },
     "output_type": "display_data"
    },
    {
     "name": "stdout",
     "output_type": "stream",
     "text": [
      "Y    69.37%\n",
      "N    30.63%\n",
      "Name: FLAG_OWN_REALTY, dtype: object\n"
     ]
    }
   ],
   "source": [
    "# REAL ESTATE\n",
    "plt.figure(figsize=(14,8))\n",
    "plt.title(\"Real Estate\",fontsize=20,weight=\"bold\")\n",
    "sns.countplot(x= \"FLAG_OWN_REALTY\", data = train, palette = \"mako\")\n",
    "plt.xlabel(\"Real Estate\")\n",
    "plt.show()\n",
    "\n",
    "value_counts = train['FLAG_OWN_REALTY'].value_counts()\n",
    "percentage = value_counts / value_counts.sum()\n",
    "percentage = percentage.apply(\"{:.2%}\".format)\n",
    "print(percentage)"
   ]
  },
  {
   "cell_type": "markdown",
   "id": "140bcf32-8a58-4a15-b9e8-5308242b86b4",
   "metadata": {},
   "source": [
    "69% peminjam memiliki Real Estate dan 31% dari peminjam tidak memiliki Real Estate"
   ]
  },
  {
   "cell_type": "code",
   "execution_count": 23,
   "id": "b4daeb92-62d6-4fa1-bbaa-5af494e069a8",
   "metadata": {},
   "outputs": [],
   "source": [
    "yes_kesusahan = len(train[(train['FLAG_OWN_REALTY']=='Y') & (train['TARGET']==1)])\n",
    "yes_tidakkesusahan = len(train[(train['FLAG_OWN_REALTY']=='Y') & (train['TARGET']==0)])\n",
    "no_kesusahan = len(train[(train['FLAG_OWN_REALTY']=='N') & (train['TARGET']==1)])\n",
    "no_tidakkesusahan = len(train[(train['FLAG_OWN_REALTY']=='N') & (train['TARGET']==0)])"
   ]
  },
  {
   "cell_type": "code",
   "execution_count": 24,
   "id": "835686c2-7206-4ffb-97a7-708960195840",
   "metadata": {},
   "outputs": [
    {
     "data": {
      "image/png": "[encoded data removed]",
      "text/plain": [
       "<Figure size 1008x576 with 1 Axes>"
      ]
     },
     "metadata": {
      "needs_background": "light"
     },
     "output_type": "display_data"
    }
   ],
   "source": [
    "plt.figure(figsize=(14,8))\n",
    "plt.title(\"Real Estate\",fontsize=20,weight=\"bold\")\n",
    "sns.countplot(x= \"TARGET\", hue='FLAG_OWN_REALTY',data = train, palette = \"mako\")\n",
    "plt.xlabel(\"Real Estate\")\n",
    "plt.show()\n"
   ]
  },
  {
   "cell_type": "code",
   "execution_count": 25,
   "id": "5c3d0faf-0a47-4818-8f4a-b9ddd2649a7d",
   "metadata": {},
   "outputs": [
    {
     "name": "stdout",
     "output_type": "stream",
     "text": [
      "% Peminjam yang tidak Membayarkan Hutang yang Memiliki Realestate =  7.961577407740774\n",
      "% Peminjam yang tidak Membayarkan Hutang yang Tidak Memiliki Realestate  =  8.324929139375152\n"
     ]
    }
   ],
   "source": [
    "print(\"% Peminjam yang tidak Membayarkan Hutang yang Memiliki Realestate = \",100*yes_kesusahan/(yes_kesusahan+yes_tidakkesusahan))\n",
    "print(\"% Peminjam yang tidak Membayarkan Hutang yang Tidak Memiliki Realestate  = \",100*no_kesusahan/(no_kesusahan+no_tidakkesusahan))"
   ]
  },
  {
   "cell_type": "markdown",
   "id": "0b0dc0e0-338f-4156-8a36-afe8005c1437",
   "metadata": {},
   "source": [
    "Dapat dilihat jika peminjam yang tidak membayarkan hutangnya tidak memiliki real estate untuk dijadikan sebagai jaminan "
   ]
  },
  {
   "cell_type": "code",
   "execution_count": 26,
   "id": "27b82d5d-52d9-40a7-bd84-1732183c4060",
   "metadata": {},
   "outputs": [
    {
     "data": {
      "image/png": "[encoded data removed]",
      "text/plain": [
       "<Figure size 1008x576 with 1 Axes>"
      ]
     },
     "metadata": {
      "needs_background": "light"
     },
     "output_type": "display_data"
    },
    {
     "name": "stdout",
     "output_type": "stream",
     "text": [
      "\n",
      "\n",
      "House / apartment      88.73%\n",
      "With parents            4.83%\n",
      "Municipal apartment     3.64%\n",
      "Rented apartment        1.59%\n",
      "Office apartment        0.85%\n",
      "Co-op apartment         0.36%\n",
      "Name: NAME_HOUSING_TYPE, dtype: object\n"
     ]
    }
   ],
   "source": [
    "#Tipe Hunian peminjam\n",
    "\n",
    "plt.figure(figsize=(14,8))\n",
    "plt.title(\"Hunian peminjam\",fontsize=20,weight=\"bold\")\n",
    "sns.countplot(train.NAME_HOUSING_TYPE.values,data=train, palette='mako')\n",
    "plt.xlabel(\"Tipe Hunian\")\n",
    "plt.show()\n",
    "\n",
    "print('\\n')\n",
    "value_counts = train['NAME_HOUSING_TYPE'].value_counts()\n",
    "percentage = value_counts / value_counts.sum()\n",
    "percentage = percentage.apply(\"{:.2%}\".format)\n",
    "print(percentage)"
   ]
  },
  {
   "cell_type": "markdown",
   "id": "619820a9-5d32-4bb9-a23e-02e4c412aa12",
   "metadata": {},
   "source": [
    "Kebanyakan peminjam memiliki rumah/apartemen sendiri sebagai hunian mereka, hal ini membuktikan bahwa mungkin peminjam tidak mampu membayarkan pinjaman mereka karena peminjam harus membayarkan angsuran dari rumah/apartemen mereka"
   ]
  },
  {
   "cell_type": "code",
   "execution_count": 27,
   "id": "98f4fd35-5633-4a6e-a309-91d3e1f59e6f",
   "metadata": {},
   "outputs": [
    {
     "data": {
      "image/png": "[encoded data removed]",
      "text/plain": [
       "<Figure size 1008x576 with 1 Axes>"
      ]
     },
     "metadata": {
      "needs_background": "light"
     },
     "output_type": "display_data"
    },
    {
     "name": "stdout",
     "output_type": "stream",
     "text": [
      "\n",
      "\n",
      "NAME_EDUCATION_TYPE            TARGET\n",
      "Academic degree                0          0.05%\n",
      "                               1          0.00%\n",
      "Higher education               0         23.04%\n",
      "                               1          1.30%\n",
      "Incomplete higher              0          3.06%\n",
      "                               1          0.28%\n",
      "Lower secondary                0          1.11%\n",
      "                               1          0.14%\n",
      "Secondary / secondary special  0         64.67%\n",
      "                               1          6.35%\n",
      "Name: TARGET, dtype: object\n"
     ]
    }
   ],
   "source": [
    "# jenjang pendidikan terbanyak yang dimiliki oleh peminjam\n",
    "plt.figure(figsize=(14,8))\n",
    "plt.title(\"pekerjaan peminjam\",fontsize=20,weight=\"bold\")\n",
    "pendidikan = sns.countplot(data=train, x='NAME_EDUCATION_TYPE', hue='TARGET',palette = \"mako\");\n",
    "pendidikan.set_xticklabels(pendidikan.get_xticklabels(),rotation = 90);\n",
    "plt.xlabel(\"Level Pendidikan\")\n",
    "plt.show()\n",
    "\n",
    "print('\\n')\n",
    "value_counts = train.groupby('NAME_EDUCATION_TYPE')['TARGET'].value_counts()\n",
    "percentage = value_counts / value_counts.sum()\n",
    "percentage = percentage.apply(\"{:.2%}\".format)\n",
    "print(percentage)"
   ]
  },
  {
   "cell_type": "markdown",
   "id": "a70c740d-366c-4da2-ba95-0057cbe06b9e",
   "metadata": {},
   "source": [
    "Tingkat pendidikan peminjam didominasi oleh tingkat pendidikan Secondary, dan kebanyakan peminjam dengan tingka pendidikan higher education dan secondary special dapat membayarkan pinjaman mereka"
   ]
  },
  {
   "cell_type": "code",
   "execution_count": null,
   "id": "9bde7c9e-cb47-473c-b267-a7b4e78c14ce",
   "metadata": {},
   "outputs": [],
   "source": []
  },
  {
   "cell_type": "code",
   "execution_count": 28,
   "id": "db5a1ceb-169f-4c98-ab26-aa6bb29998a0",
   "metadata": {},
   "outputs": [
    {
     "data": {
      "image/png": "[encoded data removed]",
      "text/plain": [
       "<Figure size 1008x576 with 1 Axes>"
      ]
     },
     "metadata": {
      "needs_background": "light"
     },
     "output_type": "display_data"
    },
    {
     "name": "stdout",
     "output_type": "stream",
     "text": [
      "Laborers                 26.14%\n",
      "Sales staff              15.21%\n",
      "Core staff               13.06%\n",
      "Managers                 10.12%\n",
      "Drivers                   8.81%\n",
      "High skill tech staff     5.39%\n",
      "Accountants               4.65%\n",
      "Medicine staff            4.04%\n",
      "Security staff            3.18%\n",
      "Cooking staff             2.82%\n",
      "Cleaning staff            2.20%\n",
      "Private service staff     1.26%\n",
      "Low-skill Laborers        0.99%\n",
      "Waiters/barmen staff      0.64%\n",
      "Secretaries               0.62%\n",
      "Realty agents             0.36%\n",
      "HR staff                  0.27%\n",
      "IT staff                  0.25%\n",
      "Name: OCCUPATION_TYPE, dtype: object\n"
     ]
    }
   ],
   "source": [
    "plt.figure(figsize=(14,8))\n",
    "plt.title(\"pekerjaan peminjam\",fontsize=20,weight=\"bold\")\n",
    "sns.countplot(x= \"OCCUPATION_TYPE\", data = train, palette = \"mako\")\n",
    "plt.xlabel(\"Pekejraan\")\n",
    "plt.xticks(rotation=75)\n",
    "plt.show()\n",
    "\n",
    "value_counts = train['OCCUPATION_TYPE'].value_counts()\n",
    "percentage = value_counts / value_counts.sum()\n",
    "percentage = percentage.apply(\"{:.2%}\".format)\n",
    "print(percentage)"
   ]
  },
  {
   "cell_type": "markdown",
   "id": "9ba27dcd-429c-4327-b1e4-945eef6c8159",
   "metadata": {},
   "source": [
    "Kebanyakan peminjam berprofesi sebagai pekerja buruh, sedangkan peminjam terendah berasal dari profesi HR Staff"
   ]
  },
  {
   "cell_type": "code",
   "execution_count": 29,
   "id": "7ae0bea4-0638-4691-a970-ca3bcc92a5ba",
   "metadata": {},
   "outputs": [
    {
     "data": {
      "image/png": "[encoded data removed]",
      "text/plain": [
       "<Figure size 1008x576 with 1 Axes>"
      ]
     },
     "metadata": {
      "needs_background": "light"
     },
     "output_type": "display_data"
    }
   ],
   "source": [
    "# profesi mana yang membayar pinjaman secara tepat waktu dan  lebih baik bagi perusahaan untuk meminjamkan uang?\n",
    "plt.figure(figsize=(14,8))\n",
    "plt.title(\"pekerjaan pada status peminjamaman\",fontsize=20,weight=\"bold\")\n",
    "sns.countplot(x= \"OCCUPATION_TYPE\", hue = 'TARGET',data = train, palette = \"mako\")\n",
    "plt.xlabel(\"Pekejraan\")\n",
    "plt.xticks(rotation=75)\n",
    "plt.show()\n"
   ]
  },
  {
   "cell_type": "markdown",
   "id": "ac05b391-fc37-46ee-8bca-1b7c4bd8b7dd",
   "metadata": {},
   "source": [
    "Peminjam yang berprofesi sebagai pekerja buruh memiliki kesulitan tertinggi untuk membayar pinjaman, namaun juga pekerja buruh juga dapat membayuarkan pinjaman secara tepat waktu. \n",
    "\n",
    "Peminjam dengan profesi HR Staff, IT Staff, dan Real Etate Agents dapat dikategorikan sebgai peminjam yang aman karena sering melunasi pinjaman mereka."
   ]
  },
  {
   "cell_type": "code",
   "execution_count": 30,
   "id": "4f303af8-bafa-4ce8-b5b4-0c2bd7e87df0",
   "metadata": {},
   "outputs": [
    {
     "data": {
      "text/plain": [
       "Text(0, 0.5, 'Rata-rata Pendapatan')"
      ]
     },
     "execution_count": 30,
     "metadata": {},
     "output_type": "execute_result"
    },
    {
     "data": {
      "image/png": "[encoded data removed]",
      "text/plain": [
       "<Figure size 1008x576 with 1 Axes>"
      ]
     },
     "metadata": {
      "needs_background": "light"
     },
     "output_type": "display_data"
    }
   ],
   "source": [
    "# Pendapatan peminjam pada setiap profesi \n",
    "\n",
    "plt.figure(figsize=(14,8))\n",
    "plt.title(\"Pendapatan setiap Profesi Pekerjaan\",fontsize=20,weight=\"bold\")\n",
    "sns.barplot(y='AMT_INCOME_TOTAL', x='OCCUPATION_TYPE',data=train,palette = \"mako\")\n",
    "plt.xticks(rotation=75)\n",
    "plt.xlabel(\"Pekerjaan\")\n",
    "plt.ylabel(\"Rata-rata Pendapatan\")"
   ]
  },
  {
   "cell_type": "markdown",
   "id": "1d9923e9-15c2-40bb-8229-e6769ce4afe1",
   "metadata": {},
   "source": [
    "Peminjam dengan profesi sebagai manager memiliki pendapatan yang tinggi, sedangkan peminjam yang berprofesi sebagai cleaning staff dan buruh dengan skill yang rendah memiliki pendapatan yang rendah."
   ]
  },
  {
   "cell_type": "markdown",
   "id": "0c7eb698-a124-4ccb-9c61-f9242db97c12",
   "metadata": {},
   "source": [
    "sekarang, kita lihat rasio jumlah pembayar terhadap jumlah pelamar pinjaman di setiap kategori pekerjaan."
   ]
  },
  {
   "cell_type": "code",
   "execution_count": 31,
   "id": "f6d0dbaf-dd49-4208-a209-506f9aa01ee8",
   "metadata": {},
   "outputs": [],
   "source": [
    "# data grouped berdasarkan pekerjaan dan target\n",
    "pekerjaan = pd.DataFrame(data=train.groupby(['OCCUPATION_TYPE','TARGET']).count()['SK_ID_CURR'])\n",
    "\n",
    "# reset index dari data pekerjaan\n",
    "pekerjaan = pekerjaan.reset_index()"
   ]
  },
  {
   "cell_type": "code",
   "execution_count": 32,
   "id": "9dde3213-e0bf-4309-acae-133635f390b7",
   "metadata": {},
   "outputs": [],
   "source": [
    "# jumlah orang yang dikelompokkan berdasarkan jenis pekerjaan dan target\n",
    "value_counts = pekerjaan['SK_ID_CURR'].values\n",
    "\n",
    "def repayers_to_applicants_ratio(values):\n",
    "    flag = 1\n",
    "    rasio = []\n",
    "    for count in range(len(values)):\n",
    "        if flag == 1:\n",
    "            current_number = values[count]\n",
    "            next_number = values[count+1]\n",
    "            rasio.append(current_number/(current_number+next_number))\n",
    "            rasio.append(current_number/(current_number+next_number))\n",
    "        flag=flag*-1\n",
    "    return rasio        "
   ]
  },
  {
   "cell_type": "code",
   "execution_count": 33,
   "id": "d8086404-d858-4e04-bd79-7e79e2121e15",
   "metadata": {},
   "outputs": [],
   "source": [
    "pekerjaan['Rasio R/A'] = repayers_to_applicants_ratio(value_counts)"
   ]
  },
  {
   "cell_type": "code",
   "execution_count": 34,
   "id": "53eca362-469a-426f-adbc-59a8b6982e68",
   "metadata": {},
   "outputs": [
    {
     "data": {
      "text/html": [
       "<div>\n",
       "<style scoped>\n",
       "    .dataframe tbody tr th:only-of-type {\n",
       "        vertical-align: middle;\n",
       "    }\n",
       "\n",
       "    .dataframe tbody tr th {\n",
       "        vertical-align: top;\n",
       "    }\n",
       "\n",
       "    .dataframe thead th {\n",
       "        text-align: right;\n",
       "    }\n",
       "</style>\n",
       "<table border=\"1\" class=\"dataframe\">\n",
       "  <thead>\n",
       "    <tr style=\"text-align: right;\">\n",
       "      <th></th>\n",
       "      <th>OCCUPATION_TYPE</th>\n",
       "      <th>Rasio R/A</th>\n",
       "    </tr>\n",
       "  </thead>\n",
       "  <tbody>\n",
       "    <tr>\n",
       "      <th>0</th>\n",
       "      <td>Accountants</td>\n",
       "      <td>0.951697</td>\n",
       "    </tr>\n",
       "    <tr>\n",
       "      <th>6</th>\n",
       "      <td>High skill tech staff</td>\n",
       "      <td>0.938401</td>\n",
       "    </tr>\n",
       "    <tr>\n",
       "      <th>10</th>\n",
       "      <td>Managers</td>\n",
       "      <td>0.937860</td>\n",
       "    </tr>\n",
       "    <tr>\n",
       "      <th>3</th>\n",
       "      <td>Core staff</td>\n",
       "      <td>0.936960</td>\n",
       "    </tr>\n",
       "    <tr>\n",
       "      <th>5</th>\n",
       "      <td>HR staff</td>\n",
       "      <td>0.936057</td>\n",
       "    </tr>\n",
       "    <tr>\n",
       "      <th>7</th>\n",
       "      <td>IT staff</td>\n",
       "      <td>0.935361</td>\n",
       "    </tr>\n",
       "    <tr>\n",
       "      <th>12</th>\n",
       "      <td>Private service staff</td>\n",
       "      <td>0.934012</td>\n",
       "    </tr>\n",
       "    <tr>\n",
       "      <th>11</th>\n",
       "      <td>Medicine staff</td>\n",
       "      <td>0.932998</td>\n",
       "    </tr>\n",
       "    <tr>\n",
       "      <th>15</th>\n",
       "      <td>Secretaries</td>\n",
       "      <td>0.929502</td>\n",
       "    </tr>\n",
       "    <tr>\n",
       "      <th>13</th>\n",
       "      <td>Realty agents</td>\n",
       "      <td>0.921438</td>\n",
       "    </tr>\n",
       "    <tr>\n",
       "      <th>1</th>\n",
       "      <td>Cleaning staff</td>\n",
       "      <td>0.903933</td>\n",
       "    </tr>\n",
       "    <tr>\n",
       "      <th>14</th>\n",
       "      <td>Sales staff</td>\n",
       "      <td>0.903682</td>\n",
       "    </tr>\n",
       "    <tr>\n",
       "      <th>2</th>\n",
       "      <td>Cooking staff</td>\n",
       "      <td>0.895560</td>\n",
       "    </tr>\n",
       "    <tr>\n",
       "      <th>8</th>\n",
       "      <td>Laborers</td>\n",
       "      <td>0.894212</td>\n",
       "    </tr>\n",
       "    <tr>\n",
       "      <th>16</th>\n",
       "      <td>Security staff</td>\n",
       "      <td>0.892576</td>\n",
       "    </tr>\n",
       "    <tr>\n",
       "      <th>17</th>\n",
       "      <td>Waiters/barmen staff</td>\n",
       "      <td>0.887240</td>\n",
       "    </tr>\n",
       "    <tr>\n",
       "      <th>4</th>\n",
       "      <td>Drivers</td>\n",
       "      <td>0.886739</td>\n",
       "    </tr>\n",
       "    <tr>\n",
       "      <th>9</th>\n",
       "      <td>Low-skill Laborers</td>\n",
       "      <td>0.828476</td>\n",
       "    </tr>\n",
       "  </tbody>\n",
       "</table>\n",
       "</div>"
      ],
      "text/plain": [
       "          OCCUPATION_TYPE  Rasio R/A\n",
       "0             Accountants   0.951697\n",
       "6   High skill tech staff   0.938401\n",
       "10               Managers   0.937860\n",
       "3              Core staff   0.936960\n",
       "5                HR staff   0.936057\n",
       "7                IT staff   0.935361\n",
       "12  Private service staff   0.934012\n",
       "11         Medicine staff   0.932998\n",
       "15            Secretaries   0.929502\n",
       "13          Realty agents   0.921438\n",
       "1          Cleaning staff   0.903933\n",
       "14            Sales staff   0.903682\n",
       "2           Cooking staff   0.895560\n",
       "8                Laborers   0.894212\n",
       "16         Security staff   0.892576\n",
       "17   Waiters/barmen staff   0.887240\n",
       "4                 Drivers   0.886739\n",
       "9      Low-skill Laborers   0.828476"
      ]
     },
     "execution_count": 34,
     "metadata": {},
     "output_type": "execute_result"
    }
   ],
   "source": [
    "# rasio pekerjaan berdasarkan tipe pekerjaan yang aman untuk menjadi peminjam\n",
    "\n",
    "df_rasio_pekerjaan = pekerjaan.groupby(['OCCUPATION_TYPE','Rasio R/A']).count().drop(['TARGET', 'SK_ID_CURR'],axis=1)\n",
    "df_rasio_pekerjaan = df_rasio_pekerjaan.reset_index() \n",
    "df_rasio_pekerjaan = df_rasio_pekerjaan.sort_values(['Rasio R/A'],ascending=False)\n",
    "df_rasio_pekerjaan"
   ]
  },
  {
   "cell_type": "code",
   "execution_count": 35,
   "id": "c115b9c7-980e-41ec-96aa-a2ad8a833643",
   "metadata": {},
   "outputs": [
    {
     "data": {
      "image/png": "[encoded data removed]",
      "text/plain": [
       "<Figure size 1008x576 with 1 Axes>"
      ]
     },
     "metadata": {
      "needs_background": "light"
     },
     "output_type": "display_data"
    }
   ],
   "source": [
    "plt.figure(figsize=(14,8))\n",
    "plt.title(\"Rasio Tipe pekerjaan yang Aman untuk Menjadi Peminjam\",fontsize=20,weight=\"bold\")\n",
    "sns.barplot(x='OCCUPATION_TYPE',y='Rasio R/A',data=df_rasio_pekerjaan,palette=('mako'))\n",
    "plt.xticks(rotation=70)\n",
    "plt.xlabel(\"Tipe Pekerjaan\")\n",
    "plt.ylabel(\"Mean R/A Ratio\")\n",
    "plt.show()"
   ]
  },
  {
   "cell_type": "markdown",
   "id": "5cd2b8e5-4744-421f-811b-d02f1579cbf2",
   "metadata": {},
   "source": [
    "Terlihat bahwa tipe pekerjaan akuntan yaitu tipe pekerjaan yang dikategorikan aman untuk diberikan pinjaman oleh lembaga peminjam dengan Rasio 0.95. Sedangkan tipe pekerjaan yang dikategorikan tidak aman untuk diberikan pinjaman adalah tipe pekerjaan buruh dengan keterampilan rendah (low-skill laborers) dengan rasio 0.82"
   ]
  },
  {
   "cell_type": "code",
   "execution_count": 36,
   "id": "e4e3be39-64b5-40f7-8bc8-4dfd985412ec",
   "metadata": {},
   "outputs": [
    {
     "data": {
      "text/plain": [
       "Text(0.5, 0, 'Tahun Kerja')"
      ]
     },
     "execution_count": 36,
     "metadata": {},
     "output_type": "execute_result"
    },
    {
     "data": {
      "image/png": "[encoded data removed]",
      "text/plain": [
       "<Figure size 1008x576 with 2 Axes>"
      ]
     },
     "metadata": {
      "needs_background": "light"
     },
     "output_type": "display_data"
    }
   ],
   "source": [
    "#Hubungan antara tahun berapa lama bekerja dan kemampuan membayar\n",
    "\n",
    "days_empolyed_df = train[train['DAYS_EMPLOYED']!=365243]\n",
    "days_empolyed_df['YEARS_EMPLOYED'] = days_empolyed_df['DAYS_EMPLOYED']/-365.25\n",
    "\n",
    "plt.figure(figsize=(14,8))\n",
    "plt.subplot(1, 2, 1)\n",
    "plt.title(\"Distribusi Tahun Kerja Peminjam\",fontsize=20,weight=\"bold\")\n",
    "sns.distplot(days_empolyed_df[days_empolyed_df['TARGET']==0]['YEARS_EMPLOYED'], hist=False, label=\"Dapat Membayar\")\n",
    "sns.distplot(days_empolyed_df[days_empolyed_df['TARGET']==1]['YEARS_EMPLOYED'], hist=False, label=\"Tidak Dapat Membayar\")\n",
    "plt.xlim([-5,20])\n",
    "plt.xlabel(\"Tahun Kerja\")\n",
    "plt.legend()\n",
    "\n",
    "plt.subplot(1, 2, 2)\n",
    "plt.title(\"Distribusi Tahun Kerja Peminjam\",fontsize=20,weight=\"bold\")\n",
    "sns.distplot(days_empolyed_df['YEARS_EMPLOYED'])\n",
    "plt.xlabel(\"Tahun Kerja\")\n"
   ]
  },
  {
   "cell_type": "markdown",
   "id": "827c4015-e116-4007-86c6-cd7e57d63e0d",
   "metadata": {},
   "source": [
    "Peminjam dengan masa kerja < 5 tahun, terutama pekerja dengan masa kerja <2 tahun cenderung untuk tidak dapat membayarkan pinjaman yang ada,\n",
    "sebaliknya peinjam dengan masa pinjaman >5 tahun dapat membayarkan pinjamannya."
   ]
  },
  {
   "cell_type": "code",
   "execution_count": 37,
   "id": "a7bd1dd7-d88d-4b90-8bcb-4c976b016f44",
   "metadata": {},
   "outputs": [],
   "source": [
    "# merge the new column 'Ratio R/A' to the train dataframe.\n",
    "train = pd.merge(left=train,right=df_rasio_pekerjaan,on='OCCUPATION_TYPE')"
   ]
  },
  {
   "cell_type": "code",
   "execution_count": 38,
   "id": "8442f476-5d66-44f6-bfc5-49033dc763b4",
   "metadata": {},
   "outputs": [
    {
     "data": {
      "text/html": [
       "<div>\n",
       "<style scoped>\n",
       "    .dataframe tbody tr th:only-of-type {\n",
       "        vertical-align: middle;\n",
       "    }\n",
       "\n",
       "    .dataframe tbody tr th {\n",
       "        vertical-align: top;\n",
       "    }\n",
       "\n",
       "    .dataframe thead th {\n",
       "        text-align: right;\n",
       "    }\n",
       "</style>\n",
       "<table border=\"1\" class=\"dataframe\">\n",
       "  <thead>\n",
       "    <tr style=\"text-align: right;\">\n",
       "      <th></th>\n",
       "      <th>CODE_GENDER</th>\n",
       "      <th>TARGET</th>\n",
       "      <th>SK_ID_CURR</th>\n",
       "    </tr>\n",
       "  </thead>\n",
       "  <tbody>\n",
       "    <tr>\n",
       "      <th>0</th>\n",
       "      <td>F</td>\n",
       "      <td>0</td>\n",
       "      <td>119311</td>\n",
       "    </tr>\n",
       "    <tr>\n",
       "      <th>1</th>\n",
       "      <td>F</td>\n",
       "      <td>1</td>\n",
       "      <td>9971</td>\n",
       "    </tr>\n",
       "    <tr>\n",
       "      <th>2</th>\n",
       "      <td>M</td>\n",
       "      <td>0</td>\n",
       "      <td>73260</td>\n",
       "    </tr>\n",
       "    <tr>\n",
       "      <th>3</th>\n",
       "      <td>M</td>\n",
       "      <td>1</td>\n",
       "      <td>8576</td>\n",
       "    </tr>\n",
       "    <tr>\n",
       "      <th>4</th>\n",
       "      <td>XNA</td>\n",
       "      <td>0</td>\n",
       "      <td>2</td>\n",
       "    </tr>\n",
       "  </tbody>\n",
       "</table>\n",
       "</div>"
      ],
      "text/plain": [
       "  CODE_GENDER  TARGET  SK_ID_CURR\n",
       "0           F       0      119311\n",
       "1           F       1        9971\n",
       "2           M       0       73260\n",
       "3           M       1        8576\n",
       "4         XNA       0           2"
      ]
     },
     "execution_count": 38,
     "metadata": {},
     "output_type": "execute_result"
    }
   ],
   "source": [
    "# Mencari probabilitas bahwa pelamar akan mengetahui bahwa dia adalah laki-laki/Perempuan\n",
    "pd.DataFrame(train.groupby(['CODE_GENDER','TARGET']).count()['SK_ID_CURR']).reset_index()"
   ]
  },
  {
   "cell_type": "code",
   "execution_count": 39,
   "id": "61347df7-6eb9-4e12-abfc-a70293d4b70a",
   "metadata": {},
   "outputs": [
    {
     "name": "stdout",
     "output_type": "stream",
     "text": [
      "probabilitas bahwa pemohon akan membayar kembali pinjaman dan dia adalah laki-laki P(R|M) =  0.8952050442348111\n",
      "probabilitas bahwa pemohon akan membayar kembali pinjaman dan dia adalah Perempuan P(R|F) =  0.9228740273201219\n"
     ]
    }
   ],
   "source": [
    "print(\"probabilitas bahwa pemohon akan membayar kembali pinjaman dan dia adalah laki-laki P(R|M) = \" , 73260/(73260+8576))\n",
    "print(\"probabilitas bahwa pemohon akan membayar kembali pinjaman dan dia adalah Perempuan P(R|F) = \" , 119311/(119311+9971))"
   ]
  },
  {
   "cell_type": "code",
   "execution_count": 40,
   "id": "47c80879-4a78-437a-8b26-a616e993fdfe",
   "metadata": {},
   "outputs": [
    {
     "data": {
      "text/html": [
       "<div>\n",
       "<style scoped>\n",
       "    .dataframe tbody tr th:only-of-type {\n",
       "        vertical-align: middle;\n",
       "    }\n",
       "\n",
       "    .dataframe tbody tr th {\n",
       "        vertical-align: top;\n",
       "    }\n",
       "\n",
       "    .dataframe thead th {\n",
       "        text-align: right;\n",
       "    }\n",
       "</style>\n",
       "<table border=\"1\" class=\"dataframe\">\n",
       "  <thead>\n",
       "    <tr style=\"text-align: right;\">\n",
       "      <th></th>\n",
       "      <th>CODE_GENDER</th>\n",
       "      <th>GR/A</th>\n",
       "    </tr>\n",
       "  </thead>\n",
       "  <tbody>\n",
       "    <tr>\n",
       "      <th>0</th>\n",
       "      <td>M</td>\n",
       "      <td>0.8952</td>\n",
       "    </tr>\n",
       "    <tr>\n",
       "      <th>1</th>\n",
       "      <td>F</td>\n",
       "      <td>0.9228</td>\n",
       "    </tr>\n",
       "  </tbody>\n",
       "</table>\n",
       "</div>"
      ],
      "text/plain": [
       "  CODE_GENDER    GR/A\n",
       "0           M  0.8952\n",
       "1           F  0.9228"
      ]
     },
     "execution_count": 40,
     "metadata": {},
     "output_type": "execute_result"
    }
   ],
   "source": [
    "# Mari kita buat kerangka data baru di mana probabilitas pembayaran berdasarkan jenis kelamin disertakan. GR/A untuk rasio pembayaran berdasarkan Gender.\n",
    "\n",
    "gender_repay_rasio = pd.DataFrame({\"CODE_GENDER\":['M','F'],\"GR/A\":[0.8952,0.9228]})\n",
    "gender_repay_rasio"
   ]
  },
  {
   "cell_type": "code",
   "execution_count": 41,
   "id": "e1dc7a3d-bc10-4b4d-9470-3f9f85070d90",
   "metadata": {},
   "outputs": [],
   "source": [
    "train = pd.merge(left=train,right=gender_repay_rasio,on='CODE_GENDER')"
   ]
  },
  {
   "cell_type": "code",
   "execution_count": 42,
   "id": "4d0852b1-977c-477e-a5c0-6e7956541167",
   "metadata": {},
   "outputs": [],
   "source": [
    "train['EGR/A'] = train['Rasio R/A']*train['GR/A']"
   ]
  },
  {
   "cell_type": "code",
   "execution_count": 43,
   "id": "98e562f8-7e26-42a6-8ce8-c1630915f67a",
   "metadata": {},
   "outputs": [
    {
     "data": {
      "text/plain": [
       "<matplotlib.legend.Legend at 0x203a98a8070>"
      ]
     },
     "execution_count": 43,
     "metadata": {},
     "output_type": "execute_result"
    },
    {
     "data": {
      "image/png": "[encoded data removed]",
      "text/plain": [
       "<Figure size 1008x576 with 1 Axes>"
      ]
     },
     "metadata": {
      "needs_background": "light"
     },
     "output_type": "display_data"
    }
   ],
   "source": [
    "#Status Peminjam berdasrakn gender dan pekerjaan, probabilitas bahwa mereka akan membayakran pinjaman mereka\n",
    "\n",
    "plt.figure(figsize=(14,8))\n",
    "plt.xticks(rotation=70)\n",
    "sns.barplot(x='OCCUPATION_TYPE',y='EGR/A',hue='CODE_GENDER',data=train,palette=\"mako\")\n",
    "plt.legend(loc=1)"
   ]
  },
  {
   "cell_type": "code",
   "execution_count": 44,
   "id": "8b4196cb-40b1-49e7-9e46-717cfe5d8235",
   "metadata": {},
   "outputs": [
    {
     "data": {
      "text/plain": [
       "(array([ 0,  1,  2,  3,  4,  5,  6,  7,  8,  9, 10, 11, 12, 13, 14, 15, 16,\n",
       "        17]),\n",
       " [Text(0, 0, 'Laborers'),\n",
       "  Text(1, 0, 'Core staff'),\n",
       "  Text(2, 0, 'Accountants'),\n",
       "  Text(3, 0, 'Managers'),\n",
       "  Text(4, 0, 'Drivers'),\n",
       "  Text(5, 0, 'Sales staff'),\n",
       "  Text(6, 0, 'Cleaning staff'),\n",
       "  Text(7, 0, 'Cooking staff'),\n",
       "  Text(8, 0, 'Private service staff'),\n",
       "  Text(9, 0, 'Medicine staff'),\n",
       "  Text(10, 0, 'Security staff'),\n",
       "  Text(11, 0, 'High skill tech staff'),\n",
       "  Text(12, 0, 'Waiters/barmen staff'),\n",
       "  Text(13, 0, 'Low-skill Laborers'),\n",
       "  Text(14, 0, 'Realty agents'),\n",
       "  Text(15, 0, 'Secretaries'),\n",
       "  Text(16, 0, 'IT staff'),\n",
       "  Text(17, 0, 'HR staff')])"
      ]
     },
     "execution_count": 44,
     "metadata": {},
     "output_type": "execute_result"
    },
    {
     "data": {
      "image/png": "[encoded data removed]",
      "text/plain": [
       "<Figure size 1008x576 with 1 Axes>"
      ]
     },
     "metadata": {
      "needs_background": "light"
     },
     "output_type": "display_data"
    }
   ],
   "source": [
    "# kategori pekerjaan mana yang merupakan penerima pinjaman tertinggi?\n",
    "plt.figure(figsize=(14,8))\n",
    "sns.boxplot(x='OCCUPATION_TYPE',y='AMT_CREDIT',data=train,hue='CODE_GENDER',palette=\"mako\")\n",
    "plt.xticks(rotation=70)"
   ]
  },
  {
   "cell_type": "markdown",
   "id": "bfaed347-5bc1-4b66-a31c-19fbd6719e44",
   "metadata": {},
   "source": [
    "Peminjam yang berprofesi sebagai Akuntan dan Manajer adalah penerima pinjaman dengan jumlah tertinggi, sedangkan pekerjaan buruh yang berketerampilan rendah adalah profesi yang mendapatkan pinjaman paling sedikit (Buruh merupakan profesi tertinggi sebagai yang mengajukan kredit, namun tidak untuk total pinjaman/kredit yang mereka dapatkan).\n",
    "\n",
    "Hal ini masuk akal karena akuntan merupakan profesi yang ajuan kreditnya di terima paling banyak."
   ]
  },
  {
   "cell_type": "code",
   "execution_count": null,
   "id": "64bd5ea3-b7c1-4585-889e-e49071154d28",
   "metadata": {},
   "outputs": [],
   "source": []
  },
  {
   "cell_type": "code",
   "execution_count": 45,
   "id": "91cae01b-aaac-42b3-8fad-a71e96e6bfb8",
   "metadata": {},
   "outputs": [
    {
     "data": {
      "text/plain": [
       "<AxesSubplot:title={'center':'Kepemilikan Mobil Peminjam'}, xlabel='CODE_GENDER', ylabel='count'>"
      ]
     },
     "execution_count": 45,
     "metadata": {},
     "output_type": "execute_result"
    },
    {
     "data": {
      "image/png": "[encoded data removed]",
      "text/plain": [
       "<Figure size 1008x576 with 1 Axes>"
      ]
     },
     "metadata": {
      "needs_background": "light"
     },
     "output_type": "display_data"
    }
   ],
   "source": [
    "# siapa yan memiliki mobil terbanyak apakah perempuan atau laki-laki?\n",
    "plt.figure(figsize=(14,8))\n",
    "plt.title(\"Kepemilikan Mobil Peminjam\",fontsize=20,weight=\"bold\")\n",
    "sns.countplot(x='CODE_GENDER', hue='FLAG_OWN_CAR', data=train,palette=\"mako\")"
   ]
  },
  {
   "cell_type": "code",
   "execution_count": 46,
   "id": "65c4561d-7249-4324-af57-987e39e3c2a2",
   "metadata": {},
   "outputs": [
    {
     "data": {
      "text/plain": [
       "<AxesSubplot:title={'center':'Distribusi Mobil Peminjam'}, xlabel='OWN_CAR_AGE', ylabel='Density'>"
      ]
     },
     "execution_count": 46,
     "metadata": {},
     "output_type": "execute_result"
    },
    {
     "data": {
      "image/png": "[encoded data removed]",
      "text/plain": [
       "<Figure size 1080x504 with 2 Axes>"
      ]
     },
     "metadata": {
      "needs_background": "light"
     },
     "output_type": "display_data"
    }
   ],
   "source": [
    "# Distribusi umur mobil Peminjam\n",
    "plt.subplots(ncols=2,nrows=1,figsize=(15,7))\n",
    "plt.title(\"Distribusi Mobil Peminjam\",fontsize=20,weight=\"bold\")\n",
    "plt.subplot(1,2,1)\n",
    "sns.distplot(train['OWN_CAR_AGE'].dropna(),norm_hist=False,kde=False)\n",
    "plt.title(\"Distribusi Mobil Peminjam\",fontsize=20,weight=\"bold\")\n",
    "plt.subplot(1,2,2)\n",
    "sns.distplot(train['OWN_CAR_AGE'].dropna(),norm_hist=False,kde=True)"
   ]
  },
  {
   "cell_type": "markdown",
   "id": "c2b11b70-549f-4079-b8df-4b56c3a545a6",
   "metadata": {},
   "source": [
    "Terlihat distribusi umur mobil right skewwed dengan kebanyakan peminjam memiliki mobil yang berumur sekitar 10-20 tahun, dan ada sebagain banyak yang memiliki mobil yang berumur >60 thaun"
   ]
  },
  {
   "cell_type": "code",
   "execution_count": 47,
   "id": "eddbdab2-6d3d-4949-a1a1-f73f64d5e720",
   "metadata": {},
   "outputs": [
    {
     "data": {
      "text/plain": [
       "<AxesSubplot:title={'center':'Umur Mobil Peminjam'}, xlabel='CODE_GENDER', ylabel='OWN_CAR_AGE'>"
      ]
     },
     "execution_count": 47,
     "metadata": {},
     "output_type": "execute_result"
    },
    {
     "data": {
      "image/png": "[encoded data removed]",
      "text/plain": [
       "<Figure size 1008x576 with 1 Axes>"
      ]
     },
     "metadata": {
      "needs_background": "light"
     },
     "output_type": "display_data"
    }
   ],
   "source": [
    "# Apakah peminjam menghabiskan uangnya untuk memperbaiki mobil mereka yang sudah tua?? - atau mereka membeli mobil yang baru?\n",
    "plt.figure(figsize=(14,8))\n",
    "plt.title(\"Umur Mobil Peminjam\",fontsize=20,weight=\"bold\")\n",
    "sns.boxplot(x='CODE_GENDER',y='OWN_CAR_AGE',hue='TARGET',data=train,palette=\"mako\")"
   ]
  },
  {
   "cell_type": "markdown",
   "id": "a3715c8d-2adc-42c3-9fbf-66d8e5aac585",
   "metadata": {},
   "source": [
    "Peminjam yang sulit membayar pinjaman mereka kebanyakan memiliki mobil yang sudah tua, hal ini mmungkin bisa menjadi asumsi jika mereka mengeluarkan uang mereka untuk menyewa mobil karena mobil yang mereka miliki sudah tua, atau bahkan mereka kebanyakan menghabiskan uang mereka untuk memperbaiki mobil tua mereka."
   ]
  },
  {
   "cell_type": "markdown",
   "id": "d0e28f33-cda6-460f-bdf6-7cd4b736365e",
   "metadata": {},
   "source": [
    "## DATA CLEANING AND DATA PROCESSING"
   ]
  },
  {
   "cell_type": "code",
   "execution_count": 48,
   "id": "82c07825-2342-46ed-a0de-d0c88ca4ca8a",
   "metadata": {},
   "outputs": [],
   "source": [
    "#Test Data\n",
    "test = pd.read_csv(\"application_train.csv\")"
   ]
  },
  {
   "cell_type": "code",
   "execution_count": 49,
   "id": "5df73286-6ce1-432e-92d2-c6ff5d9937ee",
   "metadata": {},
   "outputs": [
    {
     "name": "stdout",
     "output_type": "stream",
     "text": [
      "<class 'pandas.core.frame.DataFrame'>\n",
      "RangeIndex: 307511 entries, 0 to 307510\n",
      "Columns: 122 entries, SK_ID_CURR to AMT_REQ_CREDIT_BUREAU_YEAR\n",
      "dtypes: float64(65), int64(41), object(16)\n",
      "memory usage: 286.2+ MB\n"
     ]
    }
   ],
   "source": [
    "test.info()"
   ]
  },
  {
   "cell_type": "code",
   "execution_count": 50,
   "id": "9a149485-b37a-452c-950c-b953690ad379",
   "metadata": {},
   "outputs": [
    {
     "data": {
      "text/html": [
       "<div>\n",
       "<style scoped>\n",
       "    .dataframe tbody tr th:only-of-type {\n",
       "        vertical-align: middle;\n",
       "    }\n",
       "\n",
       "    .dataframe tbody tr th {\n",
       "        vertical-align: top;\n",
       "    }\n",
       "\n",
       "    .dataframe thead th {\n",
       "        text-align: right;\n",
       "    }\n",
       "</style>\n",
       "<table border=\"1\" class=\"dataframe\">\n",
       "  <thead>\n",
       "    <tr style=\"text-align: right;\">\n",
       "      <th></th>\n",
       "      <th>SK_ID_CURR</th>\n",
       "      <th>TARGET</th>\n",
       "      <th>CNT_CHILDREN</th>\n",
       "      <th>AMT_INCOME_TOTAL</th>\n",
       "      <th>AMT_CREDIT</th>\n",
       "      <th>AMT_ANNUITY</th>\n",
       "      <th>AMT_GOODS_PRICE</th>\n",
       "      <th>REGION_POPULATION_RELATIVE</th>\n",
       "      <th>DAYS_BIRTH</th>\n",
       "      <th>DAYS_EMPLOYED</th>\n",
       "      <th>...</th>\n",
       "      <th>FLAG_DOCUMENT_18</th>\n",
       "      <th>FLAG_DOCUMENT_19</th>\n",
       "      <th>FLAG_DOCUMENT_20</th>\n",
       "      <th>FLAG_DOCUMENT_21</th>\n",
       "      <th>AMT_REQ_CREDIT_BUREAU_HOUR</th>\n",
       "      <th>AMT_REQ_CREDIT_BUREAU_DAY</th>\n",
       "      <th>AMT_REQ_CREDIT_BUREAU_WEEK</th>\n",
       "      <th>AMT_REQ_CREDIT_BUREAU_MON</th>\n",
       "      <th>AMT_REQ_CREDIT_BUREAU_QRT</th>\n",
       "      <th>AMT_REQ_CREDIT_BUREAU_YEAR</th>\n",
       "    </tr>\n",
       "  </thead>\n",
       "  <tbody>\n",
       "    <tr>\n",
       "      <th>count</th>\n",
       "      <td>307511.000000</td>\n",
       "      <td>307511.000000</td>\n",
       "      <td>307511.000000</td>\n",
       "      <td>3.075110e+05</td>\n",
       "      <td>3.075110e+05</td>\n",
       "      <td>307499.000000</td>\n",
       "      <td>3.072330e+05</td>\n",
       "      <td>307511.000000</td>\n",
       "      <td>307511.000000</td>\n",
       "      <td>307511.000000</td>\n",
       "      <td>...</td>\n",
       "      <td>307511.000000</td>\n",
       "      <td>307511.000000</td>\n",
       "      <td>307511.000000</td>\n",
       "      <td>307511.000000</td>\n",
       "      <td>265992.000000</td>\n",
       "      <td>265992.000000</td>\n",
       "      <td>265992.000000</td>\n",
       "      <td>265992.000000</td>\n",
       "      <td>265992.000000</td>\n",
       "      <td>265992.000000</td>\n",
       "    </tr>\n",
       "    <tr>\n",
       "      <th>mean</th>\n",
       "      <td>278180.518577</td>\n",
       "      <td>0.080729</td>\n",
       "      <td>0.417052</td>\n",
       "      <td>1.687979e+05</td>\n",
       "      <td>5.990260e+05</td>\n",
       "      <td>27108.573909</td>\n",
       "      <td>5.383962e+05</td>\n",
       "      <td>0.020868</td>\n",
       "      <td>-16036.995067</td>\n",
       "      <td>63815.045904</td>\n",
       "      <td>...</td>\n",
       "      <td>0.008130</td>\n",
       "      <td>0.000595</td>\n",
       "      <td>0.000507</td>\n",
       "      <td>0.000335</td>\n",
       "      <td>0.006402</td>\n",
       "      <td>0.007000</td>\n",
       "      <td>0.034362</td>\n",
       "      <td>0.267395</td>\n",
       "      <td>0.265474</td>\n",
       "      <td>1.899974</td>\n",
       "    </tr>\n",
       "    <tr>\n",
       "      <th>std</th>\n",
       "      <td>102790.175348</td>\n",
       "      <td>0.272419</td>\n",
       "      <td>0.722121</td>\n",
       "      <td>2.371231e+05</td>\n",
       "      <td>4.024908e+05</td>\n",
       "      <td>14493.737315</td>\n",
       "      <td>3.694465e+05</td>\n",
       "      <td>0.013831</td>\n",
       "      <td>4363.988632</td>\n",
       "      <td>141275.766519</td>\n",
       "      <td>...</td>\n",
       "      <td>0.089798</td>\n",
       "      <td>0.024387</td>\n",
       "      <td>0.022518</td>\n",
       "      <td>0.018299</td>\n",
       "      <td>0.083849</td>\n",
       "      <td>0.110757</td>\n",
       "      <td>0.204685</td>\n",
       "      <td>0.916002</td>\n",
       "      <td>0.794056</td>\n",
       "      <td>1.869295</td>\n",
       "    </tr>\n",
       "    <tr>\n",
       "      <th>min</th>\n",
       "      <td>100002.000000</td>\n",
       "      <td>0.000000</td>\n",
       "      <td>0.000000</td>\n",
       "      <td>2.565000e+04</td>\n",
       "      <td>4.500000e+04</td>\n",
       "      <td>1615.500000</td>\n",
       "      <td>4.050000e+04</td>\n",
       "      <td>0.000290</td>\n",
       "      <td>-25229.000000</td>\n",
       "      <td>-17912.000000</td>\n",
       "      <td>...</td>\n",
       "      <td>0.000000</td>\n",
       "      <td>0.000000</td>\n",
       "      <td>0.000000</td>\n",
       "      <td>0.000000</td>\n",
       "      <td>0.000000</td>\n",
       "      <td>0.000000</td>\n",
       "      <td>0.000000</td>\n",
       "      <td>0.000000</td>\n",
       "      <td>0.000000</td>\n",
       "      <td>0.000000</td>\n",
       "    </tr>\n",
       "    <tr>\n",
       "      <th>25%</th>\n",
       "      <td>189145.500000</td>\n",
       "      <td>0.000000</td>\n",
       "      <td>0.000000</td>\n",
       "      <td>1.125000e+05</td>\n",
       "      <td>2.700000e+05</td>\n",
       "      <td>16524.000000</td>\n",
       "      <td>2.385000e+05</td>\n",
       "      <td>0.010006</td>\n",
       "      <td>-19682.000000</td>\n",
       "      <td>-2760.000000</td>\n",
       "      <td>...</td>\n",
       "      <td>0.000000</td>\n",
       "      <td>0.000000</td>\n",
       "      <td>0.000000</td>\n",
       "      <td>0.000000</td>\n",
       "      <td>0.000000</td>\n",
       "      <td>0.000000</td>\n",
       "      <td>0.000000</td>\n",
       "      <td>0.000000</td>\n",
       "      <td>0.000000</td>\n",
       "      <td>0.000000</td>\n",
       "    </tr>\n",
       "    <tr>\n",
       "      <th>50%</th>\n",
       "      <td>278202.000000</td>\n",
       "      <td>0.000000</td>\n",
       "      <td>0.000000</td>\n",
       "      <td>1.471500e+05</td>\n",
       "      <td>5.135310e+05</td>\n",
       "      <td>24903.000000</td>\n",
       "      <td>4.500000e+05</td>\n",
       "      <td>0.018850</td>\n",
       "      <td>-15750.000000</td>\n",
       "      <td>-1213.000000</td>\n",
       "      <td>...</td>\n",
       "      <td>0.000000</td>\n",
       "      <td>0.000000</td>\n",
       "      <td>0.000000</td>\n",
       "      <td>0.000000</td>\n",
       "      <td>0.000000</td>\n",
       "      <td>0.000000</td>\n",
       "      <td>0.000000</td>\n",
       "      <td>0.000000</td>\n",
       "      <td>0.000000</td>\n",
       "      <td>1.000000</td>\n",
       "    </tr>\n",
       "    <tr>\n",
       "      <th>75%</th>\n",
       "      <td>367142.500000</td>\n",
       "      <td>0.000000</td>\n",
       "      <td>1.000000</td>\n",
       "      <td>2.025000e+05</td>\n",
       "      <td>8.086500e+05</td>\n",
       "      <td>34596.000000</td>\n",
       "      <td>6.795000e+05</td>\n",
       "      <td>0.028663</td>\n",
       "      <td>-12413.000000</td>\n",
       "      <td>-289.000000</td>\n",
       "      <td>...</td>\n",
       "      <td>0.000000</td>\n",
       "      <td>0.000000</td>\n",
       "      <td>0.000000</td>\n",
       "      <td>0.000000</td>\n",
       "      <td>0.000000</td>\n",
       "      <td>0.000000</td>\n",
       "      <td>0.000000</td>\n",
       "      <td>0.000000</td>\n",
       "      <td>0.000000</td>\n",
       "      <td>3.000000</td>\n",
       "    </tr>\n",
       "    <tr>\n",
       "      <th>max</th>\n",
       "      <td>456255.000000</td>\n",
       "      <td>1.000000</td>\n",
       "      <td>19.000000</td>\n",
       "      <td>1.170000e+08</td>\n",
       "      <td>4.050000e+06</td>\n",
       "      <td>258025.500000</td>\n",
       "      <td>4.050000e+06</td>\n",
       "      <td>0.072508</td>\n",
       "      <td>-7489.000000</td>\n",
       "      <td>365243.000000</td>\n",
       "      <td>...</td>\n",
       "      <td>1.000000</td>\n",
       "      <td>1.000000</td>\n",
       "      <td>1.000000</td>\n",
       "      <td>1.000000</td>\n",
       "      <td>4.000000</td>\n",
       "      <td>9.000000</td>\n",
       "      <td>8.000000</td>\n",
       "      <td>27.000000</td>\n",
       "      <td>261.000000</td>\n",
       "      <td>25.000000</td>\n",
       "    </tr>\n",
       "  </tbody>\n",
       "</table>\n",
       "<p>8 rows × 106 columns</p>\n",
       "</div>"
      ],
      "text/plain": [
       "          SK_ID_CURR         TARGET   CNT_CHILDREN  AMT_INCOME_TOTAL  \\\n",
       "count  307511.000000  307511.000000  307511.000000      3.075110e+05   \n",
       "mean   278180.518577       0.080729       0.417052      1.687979e+05   \n",
       "std    102790.175348       0.272419       0.722121      2.371231e+05   \n",
       "min    100002.000000       0.000000       0.000000      2.565000e+04   \n",
       "25%    189145.500000       0.000000       0.000000      1.125000e+05   \n",
       "50%    278202.000000       0.000000       0.000000      1.471500e+05   \n",
       "75%    367142.500000       0.000000       1.000000      2.025000e+05   \n",
       "max    456255.000000       1.000000      19.000000      1.170000e+08   \n",
       "\n",
       "         AMT_CREDIT    AMT_ANNUITY  AMT_GOODS_PRICE  \\\n",
       "count  3.075110e+05  307499.000000     3.072330e+05   \n",
       "mean   5.990260e+05   27108.573909     5.383962e+05   \n",
       "std    4.024908e+05   14493.737315     3.694465e+05   \n",
       "min    4.500000e+04    1615.500000     4.050000e+04   \n",
       "25%    2.700000e+05   16524.000000     2.385000e+05   \n",
       "50%    5.135310e+05   24903.000000     4.500000e+05   \n",
       "75%    8.086500e+05   34596.000000     6.795000e+05   \n",
       "max    4.050000e+06  258025.500000     4.050000e+06   \n",
       "\n",
       "       REGION_POPULATION_RELATIVE     DAYS_BIRTH  DAYS_EMPLOYED  ...  \\\n",
       "count               307511.000000  307511.000000  307511.000000  ...   \n",
       "mean                     0.020868  -16036.995067   63815.045904  ...   \n",
       "std                      0.013831    4363.988632  141275.766519  ...   \n",
       "min                      0.000290  -25229.000000  -17912.000000  ...   \n",
       "25%                      0.010006  -19682.000000   -2760.000000  ...   \n",
       "50%                      0.018850  -15750.000000   -1213.000000  ...   \n",
       "75%                      0.028663  -12413.000000    -289.000000  ...   \n",
       "max                      0.072508   -7489.000000  365243.000000  ...   \n",
       "\n",
       "       FLAG_DOCUMENT_18  FLAG_DOCUMENT_19  FLAG_DOCUMENT_20  FLAG_DOCUMENT_21  \\\n",
       "count     307511.000000     307511.000000     307511.000000     307511.000000   \n",
       "mean           0.008130          0.000595          0.000507          0.000335   \n",
       "std            0.089798          0.024387          0.022518          0.018299   \n",
       "min            0.000000          0.000000          0.000000          0.000000   \n",
       "25%            0.000000          0.000000          0.000000          0.000000   \n",
       "50%            0.000000          0.000000          0.000000          0.000000   \n",
       "75%            0.000000          0.000000          0.000000          0.000000   \n",
       "max            1.000000          1.000000          1.000000          1.000000   \n",
       "\n",
       "       AMT_REQ_CREDIT_BUREAU_HOUR  AMT_REQ_CREDIT_BUREAU_DAY  \\\n",
       "count               265992.000000              265992.000000   \n",
       "mean                     0.006402                   0.007000   \n",
       "std                      0.083849                   0.110757   \n",
       "min                      0.000000                   0.000000   \n",
       "25%                      0.000000                   0.000000   \n",
       "50%                      0.000000                   0.000000   \n",
       "75%                      0.000000                   0.000000   \n",
       "max                      4.000000                   9.000000   \n",
       "\n",
       "       AMT_REQ_CREDIT_BUREAU_WEEK  AMT_REQ_CREDIT_BUREAU_MON  \\\n",
       "count               265992.000000              265992.000000   \n",
       "mean                     0.034362                   0.267395   \n",
       "std                      0.204685                   0.916002   \n",
       "min                      0.000000                   0.000000   \n",
       "25%                      0.000000                   0.000000   \n",
       "50%                      0.000000                   0.000000   \n",
       "75%                      0.000000                   0.000000   \n",
       "max                      8.000000                  27.000000   \n",
       "\n",
       "       AMT_REQ_CREDIT_BUREAU_QRT  AMT_REQ_CREDIT_BUREAU_YEAR  \n",
       "count              265992.000000               265992.000000  \n",
       "mean                    0.265474                    1.899974  \n",
       "std                     0.794056                    1.869295  \n",
       "min                     0.000000                    0.000000  \n",
       "25%                     0.000000                    0.000000  \n",
       "50%                     0.000000                    1.000000  \n",
       "75%                     0.000000                    3.000000  \n",
       "max                   261.000000                   25.000000  \n",
       "\n",
       "[8 rows x 106 columns]"
      ]
     },
     "execution_count": 50,
     "metadata": {},
     "output_type": "execute_result"
    }
   ],
   "source": [
    "test.describe()"
   ]
  },
  {
   "cell_type": "code",
   "execution_count": 51,
   "id": "82065201-938a-4021-a6e7-206997b164db",
   "metadata": {},
   "outputs": [
    {
     "data": {
      "text/html": [
       "<div>\n",
       "<style scoped>\n",
       "    .dataframe tbody tr th:only-of-type {\n",
       "        vertical-align: middle;\n",
       "    }\n",
       "\n",
       "    .dataframe tbody tr th {\n",
       "        vertical-align: top;\n",
       "    }\n",
       "\n",
       "    .dataframe thead th {\n",
       "        text-align: right;\n",
       "    }\n",
       "</style>\n",
       "<table border=\"1\" class=\"dataframe\">\n",
       "  <thead>\n",
       "    <tr style=\"text-align: right;\">\n",
       "      <th></th>\n",
       "      <th>unique_value</th>\n",
       "      <th>missing_%</th>\n",
       "      <th>type</th>\n",
       "    </tr>\n",
       "  </thead>\n",
       "  <tbody>\n",
       "    <tr>\n",
       "      <th>SK_ID_CURR</th>\n",
       "      <td>307511</td>\n",
       "      <td>0.000000</td>\n",
       "      <td>int64</td>\n",
       "    </tr>\n",
       "    <tr>\n",
       "      <th>TARGET</th>\n",
       "      <td>2</td>\n",
       "      <td>0.000000</td>\n",
       "      <td>int64</td>\n",
       "    </tr>\n",
       "    <tr>\n",
       "      <th>NAME_CONTRACT_TYPE</th>\n",
       "      <td>2</td>\n",
       "      <td>0.000000</td>\n",
       "      <td>object</td>\n",
       "    </tr>\n",
       "    <tr>\n",
       "      <th>CODE_GENDER</th>\n",
       "      <td>3</td>\n",
       "      <td>0.000000</td>\n",
       "      <td>object</td>\n",
       "    </tr>\n",
       "    <tr>\n",
       "      <th>FLAG_OWN_CAR</th>\n",
       "      <td>2</td>\n",
       "      <td>0.000000</td>\n",
       "      <td>object</td>\n",
       "    </tr>\n",
       "    <tr>\n",
       "      <th>...</th>\n",
       "      <td>...</td>\n",
       "      <td>...</td>\n",
       "      <td>...</td>\n",
       "    </tr>\n",
       "    <tr>\n",
       "      <th>AMT_REQ_CREDIT_BUREAU_DAY</th>\n",
       "      <td>9</td>\n",
       "      <td>13.501631</td>\n",
       "      <td>float64</td>\n",
       "    </tr>\n",
       "    <tr>\n",
       "      <th>AMT_REQ_CREDIT_BUREAU_WEEK</th>\n",
       "      <td>9</td>\n",
       "      <td>13.501631</td>\n",
       "      <td>float64</td>\n",
       "    </tr>\n",
       "    <tr>\n",
       "      <th>AMT_REQ_CREDIT_BUREAU_MON</th>\n",
       "      <td>24</td>\n",
       "      <td>13.501631</td>\n",
       "      <td>float64</td>\n",
       "    </tr>\n",
       "    <tr>\n",
       "      <th>AMT_REQ_CREDIT_BUREAU_QRT</th>\n",
       "      <td>11</td>\n",
       "      <td>13.501631</td>\n",
       "      <td>float64</td>\n",
       "    </tr>\n",
       "    <tr>\n",
       "      <th>AMT_REQ_CREDIT_BUREAU_YEAR</th>\n",
       "      <td>25</td>\n",
       "      <td>13.501631</td>\n",
       "      <td>float64</td>\n",
       "    </tr>\n",
       "  </tbody>\n",
       "</table>\n",
       "<p>122 rows × 3 columns</p>\n",
       "</div>"
      ],
      "text/plain": [
       "                            unique_value  missing_%     type\n",
       "SK_ID_CURR                        307511   0.000000    int64\n",
       "TARGET                                 2   0.000000    int64\n",
       "NAME_CONTRACT_TYPE                     2   0.000000   object\n",
       "CODE_GENDER                            3   0.000000   object\n",
       "FLAG_OWN_CAR                           2   0.000000   object\n",
       "...                                  ...        ...      ...\n",
       "AMT_REQ_CREDIT_BUREAU_DAY              9  13.501631  float64\n",
       "AMT_REQ_CREDIT_BUREAU_WEEK             9  13.501631  float64\n",
       "AMT_REQ_CREDIT_BUREAU_MON             24  13.501631  float64\n",
       "AMT_REQ_CREDIT_BUREAU_QRT             11  13.501631  float64\n",
       "AMT_REQ_CREDIT_BUREAU_YEAR            25  13.501631  float64\n",
       "\n",
       "[122 rows x 3 columns]"
      ]
     },
     "execution_count": 51,
     "metadata": {},
     "output_type": "execute_result"
    }
   ],
   "source": [
    "# Check Missing value\n",
    "feature = pd.DataFrame()\n",
    "feature.index = test.columns\n",
    "feature[\"unique_value\"] = test.nunique()\n",
    "feature[\"missing_%\"] =  100 * test.isnull().sum() / len(test)\n",
    "feature[\"type\"] = test.dtypes\n",
    "feature "
   ]
  },
  {
   "cell_type": "code",
   "execution_count": 52,
   "id": "525c51e9-886c-4820-85b6-1b1a86388c98",
   "metadata": {},
   "outputs": [
    {
     "name": "stdout",
     "output_type": "stream",
     "text": [
      "Total Testing NaNs = 9152465\n"
     ]
    }
   ],
   "source": [
    "# Nan\n",
    "print(f'Total Testing NaNs = {test.isnull().sum().sum()}')"
   ]
  },
  {
   "cell_type": "code",
   "execution_count": 53,
   "id": "4f4fa15a-bb86-4945-9ea5-b325a3a77d80",
   "metadata": {},
   "outputs": [],
   "source": [
    "def missing_columns(dataframe):\n",
    "    \n",
    "    # find the missing values\n",
    "    missing_values = dataframe.isnull().sum().sort_values(ascending=False)\n",
    "    \n",
    "    # percentage of missing values in relation to the overall size\n",
    "    missing_values_pct = 100 * missing_values/len(dataframe)\n",
    "    \n",
    "    # create a new dataframe which is a concatinated version\n",
    "    concat_values = pd.concat([missing_values, missing_values/len(dataframe),missing_values_pct.round(1)],axis=1)\n",
    "\n",
    "    # give new col names\n",
    "    concat_values.columns = ['Missing Count','Missing Count Ratio','Missing Count %']\n",
    "    \n",
    "    # return the required values\n",
    "    return concat_values[concat_values.iloc[:,1]!=0]"
   ]
  },
  {
   "cell_type": "code",
   "execution_count": 54,
   "id": "7d52bd59-3c00-4bc5-887a-f1659cfc0169",
   "metadata": {},
   "outputs": [
    {
     "data": {
      "text/html": [
       "<div>\n",
       "<style scoped>\n",
       "    .dataframe tbody tr th:only-of-type {\n",
       "        vertical-align: middle;\n",
       "    }\n",
       "\n",
       "    .dataframe tbody tr th {\n",
       "        vertical-align: top;\n",
       "    }\n",
       "\n",
       "    .dataframe thead th {\n",
       "        text-align: right;\n",
       "    }\n",
       "</style>\n",
       "<table border=\"1\" class=\"dataframe\">\n",
       "  <thead>\n",
       "    <tr style=\"text-align: right;\">\n",
       "      <th></th>\n",
       "      <th>Missing Count</th>\n",
       "      <th>Missing Count Ratio</th>\n",
       "      <th>Missing Count %</th>\n",
       "    </tr>\n",
       "  </thead>\n",
       "  <tbody>\n",
       "    <tr>\n",
       "      <th>COMMONAREA_MODE</th>\n",
       "      <td>147666</td>\n",
       "      <td>0.699448</td>\n",
       "      <td>69.9</td>\n",
       "    </tr>\n",
       "    <tr>\n",
       "      <th>COMMONAREA_AVG</th>\n",
       "      <td>147666</td>\n",
       "      <td>0.699448</td>\n",
       "      <td>69.9</td>\n",
       "    </tr>\n",
       "    <tr>\n",
       "      <th>COMMONAREA_MEDI</th>\n",
       "      <td>147666</td>\n",
       "      <td>0.699448</td>\n",
       "      <td>69.9</td>\n",
       "    </tr>\n",
       "    <tr>\n",
       "      <th>NONLIVINGAPARTMENTS_MEDI</th>\n",
       "      <td>146756</td>\n",
       "      <td>0.695137</td>\n",
       "      <td>69.5</td>\n",
       "    </tr>\n",
       "    <tr>\n",
       "      <th>NONLIVINGAPARTMENTS_AVG</th>\n",
       "      <td>146756</td>\n",
       "      <td>0.695137</td>\n",
       "      <td>69.5</td>\n",
       "    </tr>\n",
       "    <tr>\n",
       "      <th>...</th>\n",
       "      <td>...</td>\n",
       "      <td>...</td>\n",
       "      <td>...</td>\n",
       "    </tr>\n",
       "    <tr>\n",
       "      <th>DEF_30_CNT_SOCIAL_CIRCLE</th>\n",
       "      <td>696</td>\n",
       "      <td>0.003297</td>\n",
       "      <td>0.3</td>\n",
       "    </tr>\n",
       "    <tr>\n",
       "      <th>EXT_SOURCE_2</th>\n",
       "      <td>412</td>\n",
       "      <td>0.001952</td>\n",
       "      <td>0.2</td>\n",
       "    </tr>\n",
       "    <tr>\n",
       "      <th>AMT_GOODS_PRICE</th>\n",
       "      <td>221</td>\n",
       "      <td>0.001047</td>\n",
       "      <td>0.1</td>\n",
       "    </tr>\n",
       "    <tr>\n",
       "      <th>AMT_ANNUITY</th>\n",
       "      <td>12</td>\n",
       "      <td>0.000057</td>\n",
       "      <td>0.0</td>\n",
       "    </tr>\n",
       "    <tr>\n",
       "      <th>CNT_FAM_MEMBERS</th>\n",
       "      <td>2</td>\n",
       "      <td>0.000009</td>\n",
       "      <td>0.0</td>\n",
       "    </tr>\n",
       "  </tbody>\n",
       "</table>\n",
       "<p>65 rows × 3 columns</p>\n",
       "</div>"
      ],
      "text/plain": [
       "                          Missing Count  Missing Count Ratio  Missing Count %\n",
       "COMMONAREA_MODE                  147666             0.699448             69.9\n",
       "COMMONAREA_AVG                   147666             0.699448             69.9\n",
       "COMMONAREA_MEDI                  147666             0.699448             69.9\n",
       "NONLIVINGAPARTMENTS_MEDI         146756             0.695137             69.5\n",
       "NONLIVINGAPARTMENTS_AVG          146756             0.695137             69.5\n",
       "...                                 ...                  ...              ...\n",
       "DEF_30_CNT_SOCIAL_CIRCLE            696             0.003297              0.3\n",
       "EXT_SOURCE_2                        412             0.001952              0.2\n",
       "AMT_GOODS_PRICE                     221             0.001047              0.1\n",
       "AMT_ANNUITY                          12             0.000057              0.0\n",
       "CNT_FAM_MEMBERS                       2             0.000009              0.0\n",
       "\n",
       "[65 rows x 3 columns]"
      ]
     },
     "execution_count": 54,
     "metadata": {},
     "output_type": "execute_result"
    }
   ],
   "source": [
    "#missing column train\n",
    "missing_columns(train)"
   ]
  },
  {
   "cell_type": "code",
   "execution_count": 55,
   "id": "62e639a2-88e0-4c9b-90f9-31a29fcfe52b",
   "metadata": {},
   "outputs": [
    {
     "data": {
      "text/html": [
       "<div>\n",
       "<style scoped>\n",
       "    .dataframe tbody tr th:only-of-type {\n",
       "        vertical-align: middle;\n",
       "    }\n",
       "\n",
       "    .dataframe tbody tr th {\n",
       "        vertical-align: top;\n",
       "    }\n",
       "\n",
       "    .dataframe thead th {\n",
       "        text-align: right;\n",
       "    }\n",
       "</style>\n",
       "<table border=\"1\" class=\"dataframe\">\n",
       "  <thead>\n",
       "    <tr style=\"text-align: right;\">\n",
       "      <th></th>\n",
       "      <th>Missing Count</th>\n",
       "      <th>Missing Count Ratio</th>\n",
       "      <th>Missing Count %</th>\n",
       "    </tr>\n",
       "  </thead>\n",
       "  <tbody>\n",
       "    <tr>\n",
       "      <th>COMMONAREA_MEDI</th>\n",
       "      <td>214865</td>\n",
       "      <td>0.698723</td>\n",
       "      <td>69.9</td>\n",
       "    </tr>\n",
       "    <tr>\n",
       "      <th>COMMONAREA_AVG</th>\n",
       "      <td>214865</td>\n",
       "      <td>0.698723</td>\n",
       "      <td>69.9</td>\n",
       "    </tr>\n",
       "    <tr>\n",
       "      <th>COMMONAREA_MODE</th>\n",
       "      <td>214865</td>\n",
       "      <td>0.698723</td>\n",
       "      <td>69.9</td>\n",
       "    </tr>\n",
       "    <tr>\n",
       "      <th>NONLIVINGAPARTMENTS_MODE</th>\n",
       "      <td>213514</td>\n",
       "      <td>0.694330</td>\n",
       "      <td>69.4</td>\n",
       "    </tr>\n",
       "    <tr>\n",
       "      <th>NONLIVINGAPARTMENTS_AVG</th>\n",
       "      <td>213514</td>\n",
       "      <td>0.694330</td>\n",
       "      <td>69.4</td>\n",
       "    </tr>\n",
       "    <tr>\n",
       "      <th>...</th>\n",
       "      <td>...</td>\n",
       "      <td>...</td>\n",
       "      <td>...</td>\n",
       "    </tr>\n",
       "    <tr>\n",
       "      <th>EXT_SOURCE_2</th>\n",
       "      <td>660</td>\n",
       "      <td>0.002146</td>\n",
       "      <td>0.2</td>\n",
       "    </tr>\n",
       "    <tr>\n",
       "      <th>AMT_GOODS_PRICE</th>\n",
       "      <td>278</td>\n",
       "      <td>0.000904</td>\n",
       "      <td>0.1</td>\n",
       "    </tr>\n",
       "    <tr>\n",
       "      <th>AMT_ANNUITY</th>\n",
       "      <td>12</td>\n",
       "      <td>0.000039</td>\n",
       "      <td>0.0</td>\n",
       "    </tr>\n",
       "    <tr>\n",
       "      <th>CNT_FAM_MEMBERS</th>\n",
       "      <td>2</td>\n",
       "      <td>0.000007</td>\n",
       "      <td>0.0</td>\n",
       "    </tr>\n",
       "    <tr>\n",
       "      <th>DAYS_LAST_PHONE_CHANGE</th>\n",
       "      <td>1</td>\n",
       "      <td>0.000003</td>\n",
       "      <td>0.0</td>\n",
       "    </tr>\n",
       "  </tbody>\n",
       "</table>\n",
       "<p>67 rows × 3 columns</p>\n",
       "</div>"
      ],
      "text/plain": [
       "                          Missing Count  Missing Count Ratio  Missing Count %\n",
       "COMMONAREA_MEDI                  214865             0.698723             69.9\n",
       "COMMONAREA_AVG                   214865             0.698723             69.9\n",
       "COMMONAREA_MODE                  214865             0.698723             69.9\n",
       "NONLIVINGAPARTMENTS_MODE         213514             0.694330             69.4\n",
       "NONLIVINGAPARTMENTS_AVG          213514             0.694330             69.4\n",
       "...                                 ...                  ...              ...\n",
       "EXT_SOURCE_2                        660             0.002146              0.2\n",
       "AMT_GOODS_PRICE                     278             0.000904              0.1\n",
       "AMT_ANNUITY                          12             0.000039              0.0\n",
       "CNT_FAM_MEMBERS                       2             0.000007              0.0\n",
       "DAYS_LAST_PHONE_CHANGE                1             0.000003              0.0\n",
       "\n",
       "[67 rows x 3 columns]"
      ]
     },
     "execution_count": 55,
     "metadata": {},
     "output_type": "execute_result"
    }
   ],
   "source": [
    "missing_columns(test)"
   ]
  },
  {
   "cell_type": "code",
   "execution_count": 56,
   "id": "8cf25b54-b61f-4e4f-802b-f566e6053c0d",
   "metadata": {},
   "outputs": [
    {
     "name": "stdout",
     "output_type": "stream",
     "text": [
      "Train dataset: \n",
      "float64    68\n",
      "int64      41\n",
      "object     16\n",
      "dtype: int64\n",
      "\n",
      "Test dataset: \n",
      "float64    65\n",
      "int64      41\n",
      "object     16\n",
      "dtype: int64\n",
      "\n"
     ]
    }
   ],
   "source": [
    "print(\"Train dataset: \\n{}\".format(train.dtypes.value_counts()))\n",
    "print()\n",
    "print(\"Test dataset: \\n{}\".format(test.dtypes.value_counts())) \n",
    "print()"
   ]
  },
  {
   "cell_type": "code",
   "execution_count": 57,
   "id": "bbedfb00-175b-45c8-a7ee-6aee8345dbbc",
   "metadata": {},
   "outputs": [],
   "source": [
    "#Train Data yang asli dan tidak ada tambahan2 untuk EDA\n",
    "train = pd.read_csv(\"application_train.csv\")\n",
    "\n",
    "# copy data train dan data test\n",
    "train_copy = train.copy()\n",
    "test_copy = test.copy()"
   ]
  },
  {
   "cell_type": "code",
   "execution_count": 58,
   "id": "210d6562-a9da-46ff-a5fa-bde8bbe77bfa",
   "metadata": {},
   "outputs": [],
   "source": [
    "#Data dengan kolom Nan saja\n",
    "columns = train.isnull().sum()[train.isnull().sum() != 0].keys()\n",
    "nans_count = train.isnull().sum()[train.isnull().sum() != 0].values\n",
    "nans_percentage = train.isnull().sum()[train.isnull().sum() != 0].values/train.shape[0]\n",
    "\n",
    "# buat dataframe dari data yang sudsh di ekstrak\n",
    "nans = pd.DataFrame({'Column':columns, 'No. of NaNs':nans_count, '% of NaNs in Column':nans_percentage*100})\n",
    "nans = nans.sort_values(by='% of NaNs in Column', ascending=False)\n",
    "\n",
    "# extract kolom untuk Nan\n",
    "drop = nans[nans['% of NaNs in Column']>30]['Column'].tolist()\n",
    "keep = [col for col in train.columns if col not in drop]\n",
    "\n",
    "# bikin data train baru\n",
    "train = train[keep]\n",
    "\n",
    "# hilangkan target dan simpan data test yang baru\n",
    "keep.remove('TARGET')\n",
    "test = test[keep]"
   ]
  },
  {
   "cell_type": "code",
   "execution_count": 59,
   "id": "52c905aa-c837-4bad-84a7-21d2e18bc73d",
   "metadata": {},
   "outputs": [
    {
     "name": "stdout",
     "output_type": "stream",
     "text": [
      "(307511, 72)\n",
      "(307511, 71)\n"
     ]
    }
   ],
   "source": [
    "# cek dataframe shape yang baru\n",
    "print(train.shape)\n",
    "print(test.shape)"
   ]
  },
  {
   "cell_type": "code",
   "execution_count": 60,
   "id": "5d62ec59-b21e-4f0d-8ca2-1347bf23c621",
   "metadata": {},
   "outputs": [
    {
     "data": {
      "text/plain": [
       "F    202448\n",
       "M    105059\n",
       "Name: CODE_GENDER, dtype: int64"
      ]
     },
     "execution_count": 60,
     "metadata": {},
     "output_type": "execute_result"
    }
   ],
   "source": [
    "# drop XNA\n",
    "train = train[train['CODE_GENDER']!='XNA']\n",
    "\n",
    "# check\n",
    "train['CODE_GENDER'].value_counts()"
   ]
  },
  {
   "cell_type": "code",
   "execution_count": 61,
   "id": "af13ed12-3adc-4c3b-8c0d-eed97c2058ce",
   "metadata": {},
   "outputs": [],
   "source": [
    "# DROP value yang salah di AMT_TOTAL\n",
    "train = train[train['AMT_INCOME_TOTAL'] != 117000000.0]"
   ]
  },
  {
   "cell_type": "code",
   "execution_count": 62,
   "id": "306673b3-34c5-43c1-b004-6009b8ef4533",
   "metadata": {},
   "outputs": [
    {
     "name": "stdout",
     "output_type": "stream",
     "text": [
      "0.0\n",
      "0.0\n"
     ]
    }
   ],
   "source": [
    "#Ubah nilai yang salah di kolom DAYS_EMPLOYED dan DAYS_LAST_PHONE_CHANGE\n",
    "\n",
    "# DAYS_EMPLOYED column\n",
    "\n",
    "train['DAYS_EMPLOYED'] = train['DAYS_EMPLOYED'].apply(lambda x: np.nan if x==365243 else x)\n",
    "test['DAYS_EMPLOYED'] = test['DAYS_EMPLOYED'].apply(lambda x: np.nan if x==365243 else x)\n",
    "print(train['DAYS_EMPLOYED'].max())\n",
    "print(test['DAYS_EMPLOYED'].max())"
   ]
  },
  {
   "cell_type": "code",
   "execution_count": 63,
   "id": "682c5ab0-2525-482b-a2ec-3029886870ef",
   "metadata": {},
   "outputs": [
    {
     "name": "stdout",
     "output_type": "stream",
     "text": [
      "-1.0\n",
      "-1.0\n"
     ]
    }
   ],
   "source": [
    "# DAYS_LAST_PHONE_CHANGE kolom\n",
    "train['DAYS_LAST_PHONE_CHANGE'] = train['DAYS_LAST_PHONE_CHANGE'].apply(lambda x: np.nan if x==0.0 else x)\n",
    "test['DAYS_LAST_PHONE_CHANGE'] = test['DAYS_LAST_PHONE_CHANGE'].apply(lambda x: np.nan if x==0.0 else x)\n",
    "\n",
    "# check\n",
    "print(train['DAYS_LAST_PHONE_CHANGE'].max())\n",
    "print(test['DAYS_LAST_PHONE_CHANGE'].max())"
   ]
  },
  {
   "cell_type": "markdown",
   "id": "7e9e3c15-411f-4463-b6fa-bc52ac0a0e8c",
   "metadata": {},
   "source": [
    "# Split Data"
   ]
  },
  {
   "cell_type": "code",
   "execution_count": 64,
   "id": "1ed5def6-b4d0-41f8-a478-fb8d94140ed7",
   "metadata": {},
   "outputs": [],
   "source": [
    "X = train.drop('TARGET', axis=1)\n",
    "y = train['TARGET']"
   ]
  },
  {
   "cell_type": "code",
   "execution_count": 65,
   "id": "60698523-26a8-4cab-bde9-5c29a87902b6",
   "metadata": {},
   "outputs": [],
   "source": [
    "X_train, X_test, y_train, y_test = train_test_split(X, y, test_size=0.2, random_state=42)"
   ]
  },
  {
   "cell_type": "markdown",
   "id": "4878d319-da7a-4ed9-bf6f-cc9d0caa148a",
   "metadata": {},
   "source": [
    "## Fill NaN\n"
   ]
  },
  {
   "cell_type": "code",
   "execution_count": 66,
   "id": "c3e1b13b-4b5c-45ee-8d4a-117e4ccda16b",
   "metadata": {},
   "outputs": [],
   "source": [
    "#group data type (train)\n",
    "cat= []\n",
    "num= []\n",
    "\n",
    "for col in X_train.columns:\n",
    "    if train[col].dtype ==  'O':\n",
    "        cat.append(col)\n",
    "    else:\n",
    "        num.append(col)"
   ]
  },
  {
   "cell_type": "code",
   "execution_count": 67,
   "id": "9e81656f-050c-4eee-be3e-6fb932440ff8",
   "metadata": {},
   "outputs": [],
   "source": [
    "# isi NaN kategorikal dengan nilai modus, dan NaN numerikal dengan nilai median (train)\n",
    "\n",
    "for col in cat:\n",
    "    X_train[col] = X_train[col].fillna(X_train[col].mode()[0])\n",
    "\n",
    "for col in num:\n",
    "    X_train[col] = X_train[col].fillna(X_train[col].median())\n",
    "\n",
    "    \n",
    "# isi NaN kategorikal dengan nilai modus, dan NaN numerikal dengan nilai median (test)\n",
    "\n",
    "for col in cat:\n",
    "    X_test[col] = X_test[col].fillna(X_test[col].mode()[0])\n",
    "\n",
    "for col in num:\n",
    "    X_test[col] = X_test[col].fillna(X_test[col].median())"
   ]
  },
  {
   "cell_type": "markdown",
   "id": "77542744-7bf8-4d28-a6b2-8fd19e9e32e8",
   "metadata": {},
   "source": [
    "## Min Max Scaler"
   ]
  },
  {
   "cell_type": "code",
   "execution_count": 68,
   "id": "e934fe3d-fb9a-4f05-832a-fa1b1d9ebf39",
   "metadata": {},
   "outputs": [],
   "source": [
    "#make_pipeline\n",
    "nums_= make_pipeline(MinMaxScaler())"
   ]
  },
  {
   "cell_type": "markdown",
   "id": "563a6e6b-24c8-48d7-8958-7c91649cec52",
   "metadata": {},
   "source": [
    "## OneHot-Encoding\n"
   ]
  },
  {
   "cell_type": "code",
   "execution_count": 69,
   "id": "0d8cad07-3411-4426-b532-ef72038a0bb0",
   "metadata": {},
   "outputs": [],
   "source": [
    "#make_pipeline\n",
    "cat_= make_pipeline(OneHotEncoder(handle_unknown='ignore', drop='first'))"
   ]
  },
  {
   "cell_type": "code",
   "execution_count": 70,
   "id": "39d62ae4-5bfe-4f69-a675-1a858ad23337",
   "metadata": {},
   "outputs": [],
   "source": [
    "from sklearn.compose import ColumnTransformer, make_column_selector\n",
    "#Aplikasikan ke kolom dengan tipe data(dtypes) tertentu\n",
    "preprocessor = ColumnTransformer(remainder='passthrough',\n",
    "    transformers=[\n",
    "        (\"num\", nums_, make_column_selector(dtype_exclude=\"object\")),\n",
    "        (\"cat\", cat_, make_column_selector(dtype_include=\"object\")),\n",
    "    ]\n",
    ")"
   ]
  },
  {
   "cell_type": "markdown",
   "id": "a1cfc74b-dc5f-49f7-b9d1-533145969e85",
   "metadata": {},
   "source": [
    "# Model"
   ]
  },
  {
   "cell_type": "markdown",
   "id": "c9f179d8-e19c-4506-a387-0be82fde9d2d",
   "metadata": {},
   "source": [
    "Data target sangat imbalance, maka diperlukan perlakukan dengan cara melakukan oversampling dengan metode SMOTE lalu akan di undersampling untuk mengurangi sampel yang terlalu redundant"
   ]
  },
  {
   "cell_type": "code",
   "execution_count": 71,
   "id": "3c9f2014-c7f4-49d6-942e-5220669337bf",
   "metadata": {},
   "outputs": [],
   "source": [
    "from imblearn.over_sampling import SMOTE\n",
    "from imblearn.under_sampling import RandomUnderSampler\n",
    "\n",
    "over_ = SMOTE(sampling_strategy=0.25,random_state=42)                     \n",
    "under_ = RandomUnderSampler(sampling_strategy=0.75, random_state=42)"
   ]
  },
  {
   "cell_type": "code",
   "execution_count": 72,
   "id": "29b7528c-0f2f-4c01-87de-7975e5bff2f9",
   "metadata": {},
   "outputs": [],
   "source": [
    "def eval_regression(model, pred, xtrain, ytrain, xtest, ytest):\n",
    "    print(\"Accuracy :\", metrics.accuracy_score(y_test, pred))\n",
    "    print(\"Precision :\", metrics.precision_score(y_test, pred))\n",
    "    print(\"Recall :\", metrics.recall_score(y_test, pred))\n",
    "    print(\"F1 Score :\", metrics.f1_score(y_test, pred))\n",
    "    print(\"MAE: %.2f\" % mean_absolute_error(ytest, pred)) # The MAE\n",
    "    print(\"RMSE: %.2f\" % mean_squared_error(ytest, pred, squared=False)) # The RMSE\n",
    "    print('R2 score: %.2f' % r2_score(ytest, pred)) # Explained variance score: 1 is perfect prediction\n",
    "    print(\"ROC AUC score is: \",roc_auc_score(y_test,pred))"
   ]
  },
  {
   "cell_type": "code",
   "execution_count": null,
   "id": "9580da45-0ba9-4731-bb8d-be687a98ecdb",
   "metadata": {},
   "outputs": [],
   "source": []
  },
  {
   "cell_type": "code",
   "execution_count": 73,
   "id": "c55672d2-58b1-46fc-bd98-b5fc33902604",
   "metadata": {},
   "outputs": [],
   "source": [
    "#Evaluasi ROC AUC\n",
    "def evaluate_model(model_pipeline):\n",
    "    # prediction\n",
    "    train_pred = model_pipeline.predict(X_train)\n",
    "    test_pred = model_pipeline.predict(X_test)\n",
    "    \n",
    "    train_pred_proba = model_pipeline.predict_proba(X_train)\n",
    "    test_pred_proba = model_pipeline.predict_proba(X_test)\n",
    "    \n",
    "    # evaluations\n",
    "    print('Nilai ROC AUC data Train dan Test \\n')\n",
    "    print('Nilai ROC AUC Train= {:.4f}'.format(roc_auc_score(y_train, train_pred_proba[:, 1])))\n",
    "    print('Nilai ROC AUC Test= {:.4f}'.format(roc_auc_score(y_test, test_pred_proba[:, 1])))\n",
    "    print('')\n",
    "    print('Confusion Matrix:')\n",
    "    print('Training :\\n', confusion_matrix(y_train, train_pred))\n",
    "    print('Validation :\\n', confusion_matrix(y_test, test_pred))"
   ]
  },
  {
   "cell_type": "code",
   "execution_count": 74,
   "id": "a51cbff0-ce40-4e8c-9f50-ac4f951eef70",
   "metadata": {},
   "outputs": [],
   "source": [
    "from sklearn.metrics import mean_squared_error, mean_absolute_error, r2_score"
   ]
  },
  {
   "cell_type": "markdown",
   "id": "f6ef4669-2fdd-4481-b4c7-fc0fa8758133",
   "metadata": {},
   "source": [
    "## Logistic Regression"
   ]
  },
  {
   "cell_type": "code",
   "execution_count": 75,
   "id": "6158c927-4d0e-4a13-831a-467ff9c7b40e",
   "metadata": {},
   "outputs": [
    {
     "name": "stdout",
     "output_type": "stream",
     "text": [
      "Accuracy : 0.7639751552795031\n",
      "Precision : 0.18137451530953336\n",
      "Recall : 0.5443418940609952\n",
      "F1 Score : 0.27208905826898\n",
      "MAE: 0.24\n",
      "RMSE: 0.49\n",
      "R2 score: -2.17\n",
      "ROC AUC score is:  0.6638426268493164\n"
     ]
    }
   ],
   "source": [
    "#model dan pipeline\n",
    "log_reg= LogisticRegression()\n",
    "log_reg_pipeline1= make_pipeline(preprocessor, over_, under_, log_reg)\n",
    "log_reg_pipeline1.fit(X_train, y_train)\n",
    "\n",
    "#train model\n",
    "pred = log_reg_pipeline1.predict(X_test)\n",
    "\n",
    "#evaluasi model\n",
    "eval_regression(log_reg_pipeline1, pred, X_train, y_train, X_test, y_test)"
   ]
  },
  {
   "cell_type": "markdown",
   "id": "a34584f3-1afd-45b4-86fa-7855c78f5c88",
   "metadata": {},
   "source": [
    "Nilai F1 score yang sangat tidak bagus\n",
    "Nilai R2 yang lebih dari 1 menandakan model sangat underfit pada data test, dan bernilai negatif yang menandakan model menghasilkan perkiraan yang berbanding terbalik yang memiliki arti mengurangi target, dan itu bukan tujuan dari ini"
   ]
  },
  {
   "cell_type": "markdown",
   "id": "a54cbb79-48ae-4bf1-a70f-d8ff0b65a7ed",
   "metadata": {},
   "source": [
    "## Decision Tree"
   ]
  },
  {
   "cell_type": "code",
   "execution_count": 76,
   "id": "caaa5e39-0c1a-4817-8917-de1b06f0837d",
   "metadata": {},
   "outputs": [
    {
     "name": "stdout",
     "output_type": "stream",
     "text": [
      "Accuracy : 0.745227797470001\n",
      "Precision : 0.12358204748819841\n",
      "Recall : 0.35192616372391655\n",
      "F1 Score : 0.18292746519267872\n",
      "ROC AUC score is:  0.5659184942969346\n"
     ]
    }
   ],
   "source": [
    "from sklearn.svm import SVC\n",
    "from sklearn.tree import DecisionTreeClassifier\n",
    "\n",
    "dt_model = DecisionTreeClassifier()\n",
    "dt_model_pipeline1= make_pipeline(preprocessor, over_, under_, dt_model)\n",
    "dt_model_pipeline1.fit(X_train, y_train)\n",
    "\n",
    "pred = dt_model_pipeline1.predict(X_test)\n",
    "\n",
    "print(\"Accuracy :\", metrics.accuracy_score(y_test,pred))\n",
    "print(\"Precision :\", metrics.precision_score(y_test, pred))\n",
    "print(\"Recall :\", metrics.recall_score(y_test, pred))\n",
    "\n",
    "print(\"F1 Score :\", metrics.f1_score(y_test, pred))\n",
    "print(\"ROC AUC score is: \",roc_auc_score(y_test,pred))"
   ]
  },
  {
   "cell_type": "markdown",
   "id": "678bb7d8-c1fb-41c3-8b2d-e6ac513e8e1c",
   "metadata": {},
   "source": [
    "nilai ROC AUC rendah\n"
   ]
  },
  {
   "cell_type": "markdown",
   "id": "5d27c3e7-fe08-4b53-ae0b-81cb63c5ec40",
   "metadata": {},
   "source": [
    "## Random Forest"
   ]
  },
  {
   "cell_type": "code",
   "execution_count": 77,
   "id": "09449e71-f4e9-4a74-8d8d-af80cf414573",
   "metadata": {},
   "outputs": [
    {
     "name": "stdout",
     "output_type": "stream",
     "text": [
      "The accuracy in general is :  0.8919872524470749\n",
      "\n",
      "\n",
      "The classification report is as follows:\n",
      "               precision    recall  f1-score   support\n",
      "\n",
      "           0       0.93      0.95      0.94     56518\n",
      "           1       0.26      0.18      0.21      4984\n",
      "\n",
      "    accuracy                           0.89     61502\n",
      "   macro avg       0.59      0.57      0.58     61502\n",
      "weighted avg       0.88      0.89      0.88     61502\n",
      "\n",
      "Nilai ROC AUC data Train dan Test \n",
      "\n",
      "Nilai ROC AUC Train= 0.9972\n",
      "Nilai ROC AUC Test= 0.7248\n",
      "\n",
      "Confusion Matrix:\n",
      "Training :\n",
      " [[219540   6624]\n",
      " [   339  19501]]\n",
      "Validation :\n",
      " [[53959  2559]\n",
      " [ 4084   900]]\n"
     ]
    }
   ],
   "source": [
    "# create pipeline\n",
    "rf2 = RandomForestClassifier(n_estimators=100, max_depth=25, random_state=42)\n",
    "rf2_pipeline5 = make_pipeline(preprocessor, over_, under_, rf2)\n",
    "\n",
    "# train \n",
    "rf2_pipeline5.fit(X_train, y_train)\n",
    "\n",
    "pred = rf2_pipeline5.predict(X_test)\n",
    "\n",
    "\n",
    "# evaluate\n",
    "print(\"The accuracy in general is : \", accuracy_score(y_test,pred))\n",
    "print(\"\\n\")\n",
    "print(\"The classification report is as follows:\\n\", classification_report(y_test,pred))\n",
    "evaluate_model(rf2_pipeline5)"
   ]
  },
  {
   "cell_type": "markdown",
   "id": "ab580267-2aea-4368-8cad-ef71a475906a",
   "metadata": {},
   "source": [
    "Model sangat underfit terlihat dari nilai ROC AUC dari data train yang bagus namun data test yang kurang bagus"
   ]
  },
  {
   "cell_type": "code",
   "execution_count": null,
   "id": "e622f483-7255-4476-b928-bb68683e04d5",
   "metadata": {},
   "outputs": [],
   "source": []
  },
  {
   "cell_type": "markdown",
   "id": "a4cf96ea-b625-4d8d-a385-c46bca3d44b4",
   "metadata": {},
   "source": [
    "## ADA Boost"
   ]
  },
  {
   "cell_type": "code",
   "execution_count": 78,
   "id": "e48c1ded-5133-4b2b-b78b-05b0472ec947",
   "metadata": {},
   "outputs": [
    {
     "name": "stdout",
     "output_type": "stream",
     "text": [
      "The accuracy in general is :  0.8792396995219668\n",
      "\n",
      "\n",
      "The classification report is as follows:\n",
      "               precision    recall  f1-score   support\n",
      "\n",
      "           0       0.93      0.93      0.93     56518\n",
      "           1       0.26      0.26      0.26      4984\n",
      "\n",
      "    accuracy                           0.88     61502\n",
      "   macro avg       0.60      0.60      0.60     61502\n",
      "weighted avg       0.88      0.88      0.88     61502\n",
      "\n",
      "Nilai ROC AUC data Train dan Test \n",
      "\n",
      "Nilai ROC AUC Train= 0.7322\n",
      "Nilai ROC AUC Test= 0.7272\n",
      "\n",
      "Confusion Matrix:\n",
      "Training :\n",
      " [[211023  15141]\n",
      " [ 14709   5131]]\n",
      "Validation :\n",
      " [[52776  3742]\n",
      " [ 3685  1299]]\n"
     ]
    }
   ],
   "source": [
    "# create pipeline\n",
    "adaboost = AdaBoostClassifier(n_estimators=200, random_state=42)\n",
    "ada_pipeline3 = make_pipeline(preprocessor, over_, under_, adaboost)\n",
    "\n",
    "# train \n",
    "ada_pipeline3.fit(X_train, y_train)\n",
    "\n",
    "pred = ada_pipeline3.predict(X_test)\n",
    "\n",
    "\n",
    "# evaluate\n",
    "print(\"The accuracy in general is : \", accuracy_score(y_test,pred))\n",
    "print(\"\\n\")\n",
    "print(\"The classification report is as follows:\\n\", classification_report(y_test,pred))\n",
    "\n",
    "# evaluate\n",
    "evaluate_model(ada_pipeline3)"
   ]
  },
  {
   "cell_type": "markdown",
   "id": "d30dee1e-9d7c-4267-a213-c6555efc5847",
   "metadata": {},
   "source": [
    "Nilai ROC dan AUC tidak menandakan adanya underfit atau overfit, bisa dipertimbangkan model ini"
   ]
  },
  {
   "cell_type": "markdown",
   "id": "afb9a1b0-6185-4b08-ac3b-978865a85928",
   "metadata": {},
   "source": [
    "## XG Boost"
   ]
  },
  {
   "cell_type": "code",
   "execution_count": 79,
   "id": "1a2a7f25-6e02-48ca-9437-6ed463bed74a",
   "metadata": {},
   "outputs": [
    {
     "name": "stdout",
     "output_type": "stream",
     "text": [
      "The accuracy in general is :  0.8926864167018959\n",
      "\n",
      "\n",
      "The classification report is as follows:\n",
      "               precision    recall  f1-score   support\n",
      "\n",
      "           0       0.93      0.95      0.94     56518\n",
      "           1       0.29      0.22      0.25      4984\n",
      "\n",
      "    accuracy                           0.89     61502\n",
      "   macro avg       0.61      0.59      0.60     61502\n",
      "weighted avg       0.88      0.89      0.89     61502\n",
      "\n",
      "Nilai ROC AUC data Train dan Test \n",
      "\n",
      "Nilai ROC AUC Train= 0.8193\n",
      "Nilai ROC AUC Test= 0.7423\n",
      "\n",
      "Confusion Matrix:\n",
      "Training :\n",
      " [[217030   9134]\n",
      " [ 13993   5847]]\n",
      "Validation :\n",
      " [[53787  2731]\n",
      " [ 3869  1115]]\n"
     ]
    }
   ],
   "source": [
    "# create pipeline\n",
    "xgboost = XGBClassifier(random_state=42)\n",
    "xgb_pipeline4 = make_pipeline(preprocessor, over_, under_, xgboost)\n",
    "\n",
    "# train \n",
    "xgb_pipeline4.fit(X_train, y_train)\n",
    "\n",
    "pred = xgb_pipeline4.predict(X_test)\n",
    "\n",
    "# evaluate\n",
    "print(\"The accuracy in general is : \", accuracy_score(y_test,pred))\n",
    "print(\"\\n\")\n",
    "print(\"The classification report is as follows:\\n\", classification_report(y_test,pred))\n",
    "\n",
    "# evaluate\n",
    "evaluate_model(xgb_pipeline4)"
   ]
  },
  {
   "cell_type": "markdown",
   "id": "1dd19d2e-cb56-4da1-ac17-bc79bb91917f",
   "metadata": {},
   "source": [
    "Model yang sedikit underfit, dan nilainya pun cukup baik dari semua model"
   ]
  },
  {
   "cell_type": "markdown",
   "id": "41cc69df-dc2e-4abb-ad8b-f2b96097582c",
   "metadata": {},
   "source": [
    "## Tambah Feature dengan korelasi yang tinggi dengan data target"
   ]
  },
  {
   "cell_type": "code",
   "execution_count": 80,
   "id": "25374ebf-4ddd-475f-89a7-7a2cccd49d68",
   "metadata": {},
   "outputs": [],
   "source": [
    "column = ['DAYS_BIRTH', 'REGION_RATING_CLIENT_W_CITY', 'REGION_RATING_CLIENT',\n",
    "       'EXT_SOURCE_3', 'EXT_SOURCE_2', 'DAYS_EMPLOYED']\n",
    "\n",
    "for col in column:\n",
    "    for i in [2,3]:\n",
    "        X_train[f'{col}_power_{i}'] = X_train[col] ** i\n",
    "        X_test[f'{col}_power_{i}'] = X_test[col] ** i\n",
    "        test[f'{col}_power_{i}'] = test[col] ** i"
   ]
  },
  {
   "cell_type": "markdown",
   "id": "00f8f56c-1e95-46d5-9a7a-d5e4a7fd6d84",
   "metadata": {},
   "source": [
    "## ADA Boost"
   ]
  },
  {
   "cell_type": "code",
   "execution_count": 81,
   "id": "963bbdbc-08c9-4530-9f05-a64bfb4eb577",
   "metadata": {},
   "outputs": [
    {
     "name": "stdout",
     "output_type": "stream",
     "text": [
      "The accuracy in general is :  0.8762967057981854\n",
      "\n",
      "\n",
      "The classification report is as follows:\n",
      "               precision    recall  f1-score   support\n",
      "\n",
      "           0       0.94      0.93      0.93     56518\n",
      "           1       0.25      0.27      0.26      4984\n",
      "\n",
      "    accuracy                           0.88     61502\n",
      "   macro avg       0.59      0.60      0.60     61502\n",
      "weighted avg       0.88      0.88      0.88     61502\n",
      "\n",
      "Nilai ROC AUC data Train dan Test \n",
      "\n",
      "Nilai ROC AUC Train= 0.7337\n",
      "Nilai ROC AUC Test= 0.7276\n",
      "\n",
      "Confusion Matrix:\n",
      "Training :\n",
      " [[210270  15894]\n",
      " [ 14466   5374]]\n",
      "Validation :\n",
      " [[52553  3965]\n",
      " [ 3643  1341]]\n"
     ]
    }
   ],
   "source": [
    "# create pipeline\n",
    "adaboost = AdaBoostClassifier(n_estimators=200, random_state=42)\n",
    "ada_pipeline3 = make_pipeline(preprocessor, over_, under_, adaboost)\n",
    "\n",
    "# train \n",
    "ada_pipeline3.fit(X_train, y_train)\n",
    "\n",
    "pred = ada_pipeline3.predict(X_test)\n",
    "\n",
    "\n",
    "# evaluate\n",
    "print(\"The accuracy in general is : \", accuracy_score(y_test,pred))\n",
    "print(\"\\n\")\n",
    "print(\"The classification report is as follows:\\n\", classification_report(y_test,pred))\n",
    "\n",
    "# evaluate\n",
    "evaluate_model(ada_pipeline3)"
   ]
  },
  {
   "cell_type": "markdown",
   "id": "199cad28-4a3f-4d1f-9332-380ecb0feec8",
   "metadata": {},
   "source": [
    "- ROC AUC yang tidak terjadi perbedaan\n",
    "- Nilai True positif dan false negatif turun, false positif dan true negatif naik\n"
   ]
  },
  {
   "cell_type": "markdown",
   "id": "94b16ee7-d7bb-4572-89ae-ce5fc617adf9",
   "metadata": {},
   "source": [
    "## Logistic Regression"
   ]
  },
  {
   "cell_type": "code",
   "execution_count": 85,
   "id": "948fd669-633f-47c1-aef7-7c84206dcb86",
   "metadata": {},
   "outputs": [
    {
     "name": "stdout",
     "output_type": "stream",
     "text": [
      "Accuracy : 0.7611459789925531\n",
      "Precision : 0.18021876647337903\n",
      "Recall : 0.5487560192616372\n",
      "F1 Score : 0.2713293650793651\n",
      "MAE: 0.24\n",
      "RMSE: 0.49\n",
      "R2 score: -2.21\n",
      "ROC AUC score is:  0.6643157285876111\n",
      "\n",
      "\n",
      "The classification report is as follows:\n",
      "               precision    recall  f1-score   support\n",
      "\n",
      "           0       0.95      0.78      0.86     56518\n",
      "           1       0.18      0.55      0.27      4984\n",
      "\n",
      "    accuracy                           0.76     61502\n",
      "   macro avg       0.57      0.66      0.56     61502\n",
      "weighted avg       0.89      0.76      0.81     61502\n",
      "\n"
     ]
    }
   ],
   "source": [
    "#model dan pipeline\n",
    "log_reg= LogisticRegression()\n",
    "log_reg_pipeline1= make_pipeline(preprocessor, over_, under_, log_reg)\n",
    "log_reg_pipeline1.fit(X_train, y_train)\n",
    "\n",
    "#train model\n",
    "pred = log_reg_pipeline1.predict(X_test)\n",
    "\n",
    "#evaluasi model\n",
    "eval_regression(log_reg_pipeline1, pred, X_train, y_train, X_test, y_test)\n",
    "print(\"\\n\")\n",
    "print(\"The classification report is as follows:\\n\", classification_report(y_test,pred))"
   ]
  },
  {
   "cell_type": "markdown",
   "id": "e2fe329c-4f3e-4369-a47c-5cbb30c86304",
   "metadata": {},
   "source": [
    "## Random Forest"
   ]
  },
  {
   "cell_type": "code",
   "execution_count": 82,
   "id": "e66e02d7-2437-47a8-9d0e-41314e691b29",
   "metadata": {},
   "outputs": [
    {
     "name": "stdout",
     "output_type": "stream",
     "text": [
      "The accuracy in general is :  0.8731260772007414\n",
      "\n",
      "\n",
      "The classification report is as follows:\n",
      "               precision    recall  f1-score   support\n",
      "\n",
      "           0       0.93      0.93      0.93     56518\n",
      "           1       0.24      0.26      0.25      4984\n",
      "\n",
      "    accuracy                           0.87     61502\n",
      "   macro avg       0.59      0.59      0.59     61502\n",
      "weighted avg       0.88      0.87      0.88     61502\n",
      "\n",
      "Nilai ROC AUC data Train dan Test \n",
      "\n",
      "Nilai ROC AUC Train= 0.9956\n",
      "Nilai ROC AUC Test= 0.7229\n",
      "\n",
      "Confusion Matrix:\n",
      "Training :\n",
      " [[215287  10877]\n",
      " [   240  19600]]\n",
      "Validation :\n",
      " [[52421  4097]\n",
      " [ 3706  1278]]\n"
     ]
    }
   ],
   "source": [
    "# create pipeline\n",
    "rf2 = RandomForestClassifier(n_estimators=100, max_depth=25, random_state=42)\n",
    "rf2_pipeline5 = make_pipeline(preprocessor, over_, under_, rf2)\n",
    "\n",
    "# train \n",
    "rf2_pipeline5.fit(X_train, y_train)\n",
    "\n",
    "pred = rf2_pipeline5.predict(X_test)\n",
    "\n",
    "\n",
    "# evaluate\n",
    "print(\"The accuracy in general is : \", accuracy_score(y_test,pred))\n",
    "print(\"\\n\")\n",
    "print(\"The classification report is as follows:\\n\", classification_report(y_test,pred))\n",
    "evaluate_model(rf2_pipeline5)"
   ]
  },
  {
   "cell_type": "markdown",
   "id": "f5626926-7a0b-40a9-b2f1-5ff19a61ce06",
   "metadata": {},
   "source": [
    "- Model masi sama underfit"
   ]
  },
  {
   "cell_type": "markdown",
   "id": "fd56ef6f-14e9-4991-8c18-e6453d6e167d",
   "metadata": {},
   "source": [
    "## Decision Tree"
   ]
  },
  {
   "cell_type": "code",
   "execution_count": 84,
   "id": "49336a1d-8a5c-4ae3-b422-44303ad3c71e",
   "metadata": {},
   "outputs": [
    {
     "name": "stdout",
     "output_type": "stream",
     "text": [
      "Accuracy : 0.7471139149946343\n",
      "Precision : 0.1228320605238741\n",
      "Recall : 0.34530497592295345\n",
      "F1 Score : 0.18120558041589893\n",
      "ROC AUC score is:  0.5639260645211568\n"
     ]
    }
   ],
   "source": [
    "dt_model = DecisionTreeClassifier()\n",
    "dt_model_pipeline1= make_pipeline(preprocessor, over_, under_, dt_model)\n",
    "dt_model_pipeline1.fit(X_train, y_train)\n",
    "\n",
    "pred = dt_model_pipeline1.predict(X_test)\n",
    "\n",
    "print(\"Accuracy :\", metrics.accuracy_score(y_test,pred))\n",
    "print(\"Precision :\", metrics.precision_score(y_test, pred))\n",
    "print(\"Recall :\", metrics.recall_score(y_test, pred))\n",
    "\n",
    "print(\"F1 Score :\", metrics.f1_score(y_test, pred))\n",
    "print(\"ROC AUC score is: \",roc_auc_score(y_test,pred))"
   ]
  },
  {
   "cell_type": "markdown",
   "id": "8a85ab59-4ecc-4bbd-bde6-2cce1fe67aa6",
   "metadata": {},
   "source": [
    "## XG Boost"
   ]
  },
  {
   "cell_type": "code",
   "execution_count": 90,
   "id": "5527de1a-10ea-4f18-87b4-55d687421697",
   "metadata": {},
   "outputs": [
    {
     "name": "stdout",
     "output_type": "stream",
     "text": [
      "The accuracy in general is :  0.8945400149588631\n",
      "\n",
      "\n",
      "The classification report is as follows:\n",
      "               precision    recall  f1-score   support\n",
      "\n",
      "           0       0.93      0.95      0.94     56518\n",
      "           1       0.30      0.22      0.25      4984\n",
      "\n",
      "    accuracy                           0.89     61502\n",
      "   macro avg       0.62      0.59      0.60     61502\n",
      "weighted avg       0.88      0.89      0.89     61502\n",
      "\n",
      "Nilai ROC AUC data Train dan Test \n",
      "\n",
      "Nilai ROC AUC Train= 0.8169\n",
      "Nilai ROC AUC Test= 0.7406\n",
      "\n",
      "Confusion Matrix:\n",
      "Training :\n",
      " [[217145   9019]\n",
      " [ 14098   5742]]\n",
      "Validation :\n",
      " [[53907  2611]\n",
      " [ 3875  1109]]\n"
     ]
    }
   ],
   "source": [
    "# create pipeline\n",
    "xgboost = XGBClassifier(random_state=42)\n",
    "xgb_pipeline4 = make_pipeline(preprocessor, over_, under_, xgboost)\n",
    "\n",
    "# train \n",
    "xgb_pipeline4.fit(X_train, y_train)\n",
    "\n",
    "pred = xgb_pipeline4.predict(X_test)\n",
    "\n",
    "# evaluate\n",
    "print(\"The accuracy in general is : \", accuracy_score(y_test,pred))\n",
    "print(\"\\n\")\n",
    "print(\"The classification report is as follows:\\n\", classification_report(y_test,pred))\n",
    "\n",
    "# evaluate\n",
    "evaluate_model(xgb_pipeline4)"
   ]
  },
  {
   "cell_type": "markdown",
   "id": "3dd98238-7951-4fa5-b295-e5896c8f3f66",
   "metadata": {},
   "source": [
    "- Nilai Akurasi naik, dan true positif naik, false negatif turun"
   ]
  },
  {
   "cell_type": "markdown",
   "id": "40316584-a446-4c83-be08-3e192bc0ebda",
   "metadata": {},
   "source": [
    "# Model yang baik adalahh XG BOOST"
   ]
  },
  {
   "cell_type": "markdown",
   "id": "ca0b2bc5-32ed-4917-b51b-ee6730edb126",
   "metadata": {},
   "source": [
    "# Business Metrics"
   ]
  },
  {
   "cell_type": "code",
   "execution_count": 87,
   "id": "70d831f5-d940-49ab-ba80-fdbaeb81d166",
   "metadata": {},
   "outputs": [],
   "source": [
    "scaler_AMT_CREDIT = MinMaxScaler()\n",
    "scaler_AMT_CREDIT.fit(train['AMT_CREDIT'].values.reshape(len(train), 1))\n",
    "\n",
    "train['AMT_CREDIT'] = scaler_AMT_CREDIT.inverse_transform(train['AMT_CREDIT'].values.reshape(len(train), 1))"
   ]
  },
  {
   "cell_type": "code",
   "execution_count": 89,
   "id": "b59ae6d0-bdb9-4812-b67c-53ee3c2d49bc",
   "metadata": {},
   "outputs": [],
   "source": [
    "X = train.drop(columns = ['TARGET'])\n",
    "Y = train[['TARGET']]\n",
    "XTrain, XTest, yTrain, yTest = train_test_split(X,Y,test_size = 0.2,random_state = 42)"
   ]
  },
  {
   "cell_type": "code",
   "execution_count": 91,
   "id": "d687df79-d599-485e-8a63-6562bf4d6c5d",
   "metadata": {},
   "outputs": [],
   "source": [
    "XTest['TARGET_PRED_RESULT'] = pred\n",
    "XTest['TARGET'] = yTest"
   ]
  },
  {
   "cell_type": "markdown",
   "id": "d42fefed-eb40-4d21-9ded-157ad2663296",
   "metadata": {},
   "source": [
    "### LGD Before Modelling"
   ]
  },
  {
   "cell_type": "code",
   "execution_count": 93,
   "id": "048aadc7-72d7-4f24-bb73-0bff4ff97bbe",
   "metadata": {},
   "outputs": [
    {
     "data": {
      "text/html": [
       "<div>\n",
       "<style scoped>\n",
       "    .dataframe tbody tr th:only-of-type {\n",
       "        vertical-align: middle;\n",
       "    }\n",
       "\n",
       "    .dataframe tbody tr th {\n",
       "        vertical-align: top;\n",
       "    }\n",
       "\n",
       "    .dataframe thead th {\n",
       "        text-align: right;\n",
       "    }\n",
       "</style>\n",
       "<table border=\"1\" class=\"dataframe\">\n",
       "  <thead>\n",
       "    <tr style=\"text-align: right;\">\n",
       "      <th></th>\n",
       "      <th>TARGET</th>\n",
       "      <th>AMT_CREDIT</th>\n",
       "    </tr>\n",
       "  </thead>\n",
       "  <tbody>\n",
       "    <tr>\n",
       "      <th>0</th>\n",
       "      <td>0</td>\n",
       "      <td>1.362371e+17</td>\n",
       "    </tr>\n",
       "    <tr>\n",
       "      <th>1</th>\n",
       "      <td>1</td>\n",
       "      <td>1.132497e+16</td>\n",
       "    </tr>\n",
       "  </tbody>\n",
       "</table>\n",
       "</div>"
      ],
      "text/plain": [
       "   TARGET    AMT_CREDIT\n",
       "0       0  1.362371e+17\n",
       "1       1  1.132497e+16"
      ]
     },
     "execution_count": 93,
     "metadata": {},
     "output_type": "execute_result"
    }
   ],
   "source": [
    "default = XTest.groupby(['TARGET'])['AMT_CREDIT'].sum().reset_index()\n",
    "default"
   ]
  },
  {
   "cell_type": "code",
   "execution_count": 94,
   "id": "1938ab81-aeff-489c-8e00-2e7ef8646a6d",
   "metadata": {},
   "outputs": [
    {
     "data": {
      "text/html": [
       "<div>\n",
       "<style scoped>\n",
       "    .dataframe tbody tr th:only-of-type {\n",
       "        vertical-align: middle;\n",
       "    }\n",
       "\n",
       "    .dataframe tbody tr th {\n",
       "        vertical-align: top;\n",
       "    }\n",
       "\n",
       "    .dataframe thead th {\n",
       "        text-align: right;\n",
       "    }\n",
       "</style>\n",
       "<table border=\"1\" class=\"dataframe\">\n",
       "  <thead>\n",
       "    <tr style=\"text-align: right;\">\n",
       "      <th></th>\n",
       "      <th>TARGET</th>\n",
       "      <th>AMT_CREDIT</th>\n",
       "    </tr>\n",
       "  </thead>\n",
       "  <tbody>\n",
       "    <tr>\n",
       "      <th>0</th>\n",
       "      <td>0</td>\n",
       "      <td>56518</td>\n",
       "    </tr>\n",
       "    <tr>\n",
       "      <th>1</th>\n",
       "      <td>1</td>\n",
       "      <td>4984</td>\n",
       "    </tr>\n",
       "  </tbody>\n",
       "</table>\n",
       "</div>"
      ],
      "text/plain": [
       "   TARGET  AMT_CREDIT\n",
       "0       0       56518\n",
       "1       1        4984"
      ]
     },
     "execution_count": 94,
     "metadata": {},
     "output_type": "execute_result"
    }
   ],
   "source": [
    "Total_default = XTest.groupby(['TARGET'])['AMT_CREDIT'].count().reset_index()\n",
    "Total_default"
   ]
  },
  {
   "cell_type": "code",
   "execution_count": 95,
   "id": "6c991488-0c96-4020-a972-464fb37bd378",
   "metadata": {},
   "outputs": [
    {
     "data": {
      "text/plain": [
       "1    1.132497e+16\n",
       "Name: AMT_CREDIT, dtype: float64"
      ]
     },
     "execution_count": 95,
     "metadata": {},
     "output_type": "execute_result"
    }
   ],
   "source": [
    "LGDB = default['AMT_CREDIT'].loc[default['TARGET'] == 1]\n",
    "LGDB"
   ]
  },
  {
   "cell_type": "markdown",
   "id": "ebdb7b3a-3c7a-4c29-82f9-c1f334ac1660",
   "metadata": {},
   "source": [
    "### LGD After Modelling"
   ]
  },
  {
   "cell_type": "code",
   "execution_count": 100,
   "id": "0adc98a2-9dcf-438b-961e-4c004aea4587",
   "metadata": {},
   "outputs": [
    {
     "data": {
      "text/plain": [
       "(3875, 73)"
      ]
     },
     "execution_count": 100,
     "metadata": {},
     "output_type": "execute_result"
    }
   ],
   "source": [
    "FN = (XTest.loc[(XTest['TARGET'] == 1) & (XTest['TARGET_PRED_RESULT'] == 0)])\n",
    "FN.shape"
   ]
  },
  {
   "cell_type": "code",
   "execution_count": 97,
   "id": "7729e3ac-5141-48ef-9cc7-4805237d2bf0",
   "metadata": {},
   "outputs": [
    {
     "data": {
      "text/plain": [
       "9090299706930000.0"
      ]
     },
     "execution_count": 97,
     "metadata": {},
     "output_type": "execute_result"
    }
   ],
   "source": [
    "LGDA = FN['AMT_CREDIT'].sum()\n",
    "LGDA"
   ]
  },
  {
   "cell_type": "code",
   "execution_count": 103,
   "id": "356de7bf-0447-4240-8fe3-01619a557be2",
   "metadata": {},
   "outputs": [
    {
     "data": {
      "text/plain": [
       "1   -2.234667e+15\n",
       "Name: AMT_CREDIT, dtype: float64"
      ]
     },
     "execution_count": 103,
     "metadata": {},
     "output_type": "execute_result"
    }
   ],
   "source": [
    "LGD = LGDA - LGDB\n",
    "LGD"
   ]
  },
  {
   "cell_type": "code",
   "execution_count": 99,
   "id": "450a4080-8ee1-4344-b633-bea657ed3fab",
   "metadata": {},
   "outputs": [
    {
     "data": {
      "text/plain": [
       "1   -19.73222\n",
       "Name: AMT_CREDIT, dtype: float64"
      ]
     },
     "execution_count": 99,
     "metadata": {},
     "output_type": "execute_result"
    }
   ],
   "source": [
    "LGD_Persentase = ((LGD)/LGDB)*100\n",
    "LGD_Persentase"
   ]
  },
  {
   "cell_type": "code",
   "execution_count": null,
   "id": "934020d5-508b-4e4b-a1eb-a0d738bf6b55",
   "metadata": {},
   "outputs": [],
   "source": []
  }
 ],
 "metadata": {
  "kernelspec": {
   "display_name": "Python 3",
   "language": "python",
   "name": "python3"
  },
  "language_info": {
   "codemirror_mode": {
    "name": "ipython",
    "version": 3
   },
   "file_extension": ".py",
   "mimetype": "text/x-python",
   "name": "python",
   "nbconvert_exporter": "python",
   "pygments_lexer": "ipython3",
   "version": "3.8.8"
  }
 },
 "nbformat": 4,
 "nbformat_minor": 5
}
